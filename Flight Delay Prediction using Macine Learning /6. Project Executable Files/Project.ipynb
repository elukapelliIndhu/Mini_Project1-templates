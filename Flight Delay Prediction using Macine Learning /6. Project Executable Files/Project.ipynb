{
  "cells": [
    {
      "cell_type": "code",
      "execution_count": 2,
      "metadata": {
        "colab": {
          "base_uri": "https://localhost:8080/"
        },
        "id": "CbKCzdEZmiaW",
        "outputId": "24d1c0fa-9c43-43f9-a4c9-45432c231a61"
      },
      "outputs": [
        {
          "name": "stdout",
          "output_type": "stream",
          "text": [
            "Requirement already satisfied: numpy in c:\\users\\indhu\\appdata\\local\\programs\\python\\python312\\lib\\site-packages (2.0.0)\n",
            "Note: you may need to restart the kernel to use updated packages.\n"
          ]
        },
        {
          "name": "stderr",
          "output_type": "stream",
          "text": [
            "\n",
            "[notice] A new release of pip is available: 24.0 -> 24.1.2\n",
            "[notice] To update, run: python.exe -m pip install --upgrade pip\n"
          ]
        }
      ],
      "source": [
        "pip install numpy"
      ]
    },
    {
      "cell_type": "code",
      "execution_count": 3,
      "metadata": {
        "colab": {
          "base_uri": "https://localhost:8080/"
        },
        "id": "hV57O0iUmxf2",
        "outputId": "f7e81318-2462-4051-f96f-21d793047ada"
      },
      "outputs": [
        {
          "name": "stdout",
          "output_type": "stream",
          "text": [
            "Requirement already satisfied: pandas in c:\\users\\indhu\\appdata\\local\\programs\\python\\python312\\lib\\site-packages (2.2.2)\n",
            "Requirement already satisfied: numpy>=1.26.0 in c:\\users\\indhu\\appdata\\local\\programs\\python\\python312\\lib\\site-packages (from pandas) (2.0.0)\n",
            "Requirement already satisfied: python-dateutil>=2.8.2 in c:\\users\\indhu\\appdata\\roaming\\python\\python312\\site-packages (from pandas) (2.9.0.post0)\n",
            "Requirement already satisfied: pytz>=2020.1 in c:\\users\\indhu\\appdata\\local\\programs\\python\\python312\\lib\\site-packages (from pandas) (2024.1)\n",
            "Requirement already satisfied: tzdata>=2022.7 in c:\\users\\indhu\\appdata\\local\\programs\\python\\python312\\lib\\site-packages (from pandas) (2024.1)\n",
            "Requirement already satisfied: six>=1.5 in c:\\users\\indhu\\appdata\\roaming\\python\\python312\\site-packages (from python-dateutil>=2.8.2->pandas) (1.16.0)\n",
            "Note: you may need to restart the kernel to use updated packages.\n"
          ]
        },
        {
          "name": "stderr",
          "output_type": "stream",
          "text": [
            "\n",
            "[notice] A new release of pip is available: 24.0 -> 24.1.2\n",
            "[notice] To update, run: python.exe -m pip install --upgrade pip\n"
          ]
        }
      ],
      "source": [
        "pip install pandas"
      ]
    },
    {
      "cell_type": "code",
      "execution_count": 4,
      "metadata": {
        "colab": {
          "base_uri": "https://localhost:8080/"
        },
        "id": "5B2p8f3Pmxtl",
        "outputId": "ba3886c7-0680-49eb-fe12-774e5c455201"
      },
      "outputs": [
        {
          "name": "stdout",
          "output_type": "stream",
          "text": [
            "Requirement already satisfied: matplotlib in c:\\users\\indhu\\appdata\\local\\programs\\python\\python312\\lib\\site-packages (3.9.1)\n",
            "Requirement already satisfied: contourpy>=1.0.1 in c:\\users\\indhu\\appdata\\local\\programs\\python\\python312\\lib\\site-packages (from matplotlib) (1.2.1)\n",
            "Requirement already satisfied: cycler>=0.10 in c:\\users\\indhu\\appdata\\local\\programs\\python\\python312\\lib\\site-packages (from matplotlib) (0.12.1)\n",
            "Requirement already satisfied: fonttools>=4.22.0 in c:\\users\\indhu\\appdata\\local\\programs\\python\\python312\\lib\\site-packages (from matplotlib) (4.53.1)\n",
            "Requirement already satisfied: kiwisolver>=1.3.1 in c:\\users\\indhu\\appdata\\local\\programs\\python\\python312\\lib\\site-packages (from matplotlib) (1.4.5)\n",
            "Requirement already satisfied: numpy>=1.23 in c:\\users\\indhu\\appdata\\local\\programs\\python\\python312\\lib\\site-packages (from matplotlib) (2.0.0)\n",
            "Requirement already satisfied: packaging>=20.0 in c:\\users\\indhu\\appdata\\roaming\\python\\python312\\site-packages (from matplotlib) (24.1)\n",
            "Requirement already satisfied: pillow>=8 in c:\\users\\indhu\\appdata\\local\\programs\\python\\python312\\lib\\site-packages (from matplotlib) (10.4.0)\n",
            "Requirement already satisfied: pyparsing>=2.3.1 in c:\\users\\indhu\\appdata\\local\\programs\\python\\python312\\lib\\site-packages (from matplotlib) (3.1.2)\n",
            "Requirement already satisfied: python-dateutil>=2.7 in c:\\users\\indhu\\appdata\\roaming\\python\\python312\\site-packages (from matplotlib) (2.9.0.post0)\n",
            "Requirement already satisfied: six>=1.5 in c:\\users\\indhu\\appdata\\roaming\\python\\python312\\site-packages (from python-dateutil>=2.7->matplotlib) (1.16.0)\n",
            "Note: you may need to restart the kernel to use updated packages.\n"
          ]
        },
        {
          "name": "stderr",
          "output_type": "stream",
          "text": [
            "\n",
            "[notice] A new release of pip is available: 24.0 -> 24.1.2\n",
            "[notice] To update, run: python.exe -m pip install --upgrade pip\n"
          ]
        }
      ],
      "source": [
        "pip install matplotlib"
      ]
    },
    {
      "cell_type": "code",
      "execution_count": 5,
      "metadata": {
        "colab": {
          "base_uri": "https://localhost:8080/"
        },
        "id": "ffavx845mxw_",
        "outputId": "cce6ba02-3dc6-4bea-f9b7-4cc518441fbc"
      },
      "outputs": [
        {
          "name": "stdout",
          "output_type": "stream",
          "text": [
            "Requirement already satisfied: scikit-learn in c:\\users\\indhu\\appdata\\local\\programs\\python\\python312\\lib\\site-packages (1.5.1)\n",
            "Requirement already satisfied: numpy>=1.19.5 in c:\\users\\indhu\\appdata\\local\\programs\\python\\python312\\lib\\site-packages (from scikit-learn) (2.0.0)\n",
            "Requirement already satisfied: scipy>=1.6.0 in c:\\users\\indhu\\appdata\\local\\programs\\python\\python312\\lib\\site-packages (from scikit-learn) (1.14.0)\n",
            "Requirement already satisfied: joblib>=1.2.0 in c:\\users\\indhu\\appdata\\local\\programs\\python\\python312\\lib\\site-packages (from scikit-learn) (1.4.2)\n",
            "Requirement already satisfied: threadpoolctl>=3.1.0 in c:\\users\\indhu\\appdata\\local\\programs\\python\\python312\\lib\\site-packages (from scikit-learn) (3.5.0)\n",
            "Note: you may need to restart the kernel to use updated packages.\n"
          ]
        },
        {
          "name": "stderr",
          "output_type": "stream",
          "text": [
            "\n",
            "[notice] A new release of pip is available: 24.0 -> 24.1.2\n",
            "[notice] To update, run: python.exe -m pip install --upgrade pip\n"
          ]
        }
      ],
      "source": [
        "pip install scikit-learn"
      ]
    },
    {
      "cell_type": "code",
      "execution_count": 6,
      "metadata": {
        "colab": {
          "base_uri": "https://localhost:8080/"
        },
        "id": "TZ0H-PgwmyBs",
        "outputId": "fc2d3401-e555-4304-ce82-7fc45585cfb5"
      },
      "outputs": [
        {
          "name": "stdout",
          "output_type": "stream",
          "text": [
            "Requirement already satisfied: flask in c:\\users\\indhu\\appdata\\local\\programs\\python\\python312\\lib\\site-packages (3.0.3)\n",
            "Requirement already satisfied: Werkzeug>=3.0.0 in c:\\users\\indhu\\appdata\\local\\programs\\python\\python312\\lib\\site-packages (from flask) (3.0.3)\n",
            "Requirement already satisfied: Jinja2>=3.1.2 in c:\\users\\indhu\\appdata\\local\\programs\\python\\python312\\lib\\site-packages (from flask) (3.1.4)\n",
            "Requirement already satisfied: itsdangerous>=2.1.2 in c:\\users\\indhu\\appdata\\local\\programs\\python\\python312\\lib\\site-packages (from flask) (2.2.0)\n",
            "Requirement already satisfied: click>=8.1.3 in c:\\users\\indhu\\appdata\\local\\programs\\python\\python312\\lib\\site-packages (from flask) (8.1.7)\n",
            "Requirement already satisfied: blinker>=1.6.2 in c:\\users\\indhu\\appdata\\local\\programs\\python\\python312\\lib\\site-packages (from flask) (1.8.2)\n",
            "Requirement already satisfied: colorama in c:\\users\\indhu\\appdata\\roaming\\python\\python312\\site-packages (from click>=8.1.3->flask) (0.4.6)\n",
            "Requirement already satisfied: MarkupSafe>=2.0 in c:\\users\\indhu\\appdata\\local\\programs\\python\\python312\\lib\\site-packages (from Jinja2>=3.1.2->flask) (2.1.5)\n",
            "Note: you may need to restart the kernel to use updated packages.\n"
          ]
        },
        {
          "name": "stderr",
          "output_type": "stream",
          "text": [
            "\n",
            "[notice] A new release of pip is available: 24.0 -> 24.1.2\n",
            "[notice] To update, run: python.exe -m pip install --upgrade pip\n"
          ]
        }
      ],
      "source": [
        "pip install flask"
      ]
    },
    {
      "cell_type": "code",
      "execution_count": 7,
      "metadata": {
        "colab": {
          "base_uri": "https://localhost:8080/"
        },
        "id": "d758OWzNmyEm",
        "outputId": "bdce78cd-ad7c-4124-e4e0-eb392591dc78"
      },
      "outputs": [
        {
          "name": "stdout",
          "output_type": "stream",
          "text": [
            "Note: you may need to restart the kernel to use updated packages.Requirement already satisfied: seaborn in c:\\users\\indhu\\appdata\\local\\programs\\python\\python312\\lib\\site-packages (0.13.2)\n",
            "Requirement already satisfied: numpy!=1.24.0,>=1.20 in c:\\users\\indhu\\appdata\\local\\programs\\python\\python312\\lib\\site-packages (from seaborn) (2.0.0)\n",
            "Requirement already satisfied: pandas>=1.2 in c:\\users\\indhu\\appdata\\local\\programs\\python\\python312\\lib\\site-packages (from seaborn) (2.2.2)\n",
            "Requirement already satisfied: matplotlib!=3.6.1,>=3.4 in c:\\users\\indhu\\appdata\\local\\programs\\python\\python312\\lib\\site-packages (from seaborn) (3.9.1)\n",
            "Requirement already satisfied: contourpy>=1.0.1 in c:\\users\\indhu\\appdata\\local\\programs\\python\\python312\\lib\\site-packages (from matplotlib!=3.6.1,>=3.4->seaborn) (1.2.1)\n",
            "Requirement already satisfied: cycler>=0.10 in c:\\users\\indhu\\appdata\\local\\programs\\python\\python312\\lib\\site-packages (from matplotlib!=3.6.1,>=3.4->seaborn) (0.12.1)\n",
            "Requirement already satisfied: fonttools>=4.22.0 in c:\\users\\indhu\\appdata\\local\\programs\\python\\python312\\lib\\site-packages (from matplotlib!=3.6.1,>=3.4->seaborn) (4.53.1)\n",
            "Requirement already satisfied: kiwisolver>=1.3.1 in c:\\users\\indhu\\appdata\\local\\programs\\python\\python312\\lib\\site-packages (from matplotlib!=3.6.1,>=3.4->seaborn) (1.4.5)\n",
            "Requirement already satisfied: packaging>=20.0 in c:\\users\\indhu\\appdata\\roaming\\python\\python312\\site-packages (from matplotlib!=3.6.1,>=3.4->seaborn) (24.1)\n",
            "Requirement already satisfied: pillow>=8 in c:\\users\\indhu\\appdata\\local\\programs\\python\\python312\\lib\\site-packages (from matplotlib!=3.6.1,>=3.4->seaborn) (10.4.0)\n",
            "Requirement already satisfied: pyparsing>=2.3.1 in c:\\users\\indhu\\appdata\\local\\programs\\python\\python312\\lib\\site-packages (from matplotlib!=3.6.1,>=3.4->seaborn) (3.1.2)\n",
            "Requirement already satisfied: python-dateutil>=2.7 in c:\\users\\indhu\\appdata\\roaming\\python\\python312\\site-packages (from matplotlib!=3.6.1,>=3.4->seaborn) (2.9.0.post0)\n",
            "Requirement already satisfied: pytz>=2020.1 in c:\\users\\indhu\\appdata\\local\\programs\\python\\python312\\lib\\site-packages (from pandas>=1.2->seaborn) (2024.1)\n",
            "Requirement already satisfied: tzdata>=2022.7 in c:\\users\\indhu\\appdata\\local\\programs\\python\\python312\\lib\\site-packages (from pandas>=1.2->seaborn) (2024.1)\n",
            "Requirement already satisfied: six>=1.5 in c:\\users\\indhu\\appdata\\roaming\\python\\python312\\site-packages (from python-dateutil>=2.7->matplotlib!=3.6.1,>=3.4->seaborn) (1.16.0)\n",
            "\n"
          ]
        },
        {
          "name": "stderr",
          "output_type": "stream",
          "text": [
            "\n",
            "[notice] A new release of pip is available: 24.0 -> 24.1.2\n",
            "[notice] To update, run: python.exe -m pip install --upgrade pip\n"
          ]
        }
      ],
      "source": [
        "pip install seaborn"
      ]
    },
    {
      "cell_type": "markdown",
      "metadata": {
        "id": "bfdxHXHV88qA"
      },
      "source": [
        "#IMPORTING LIBRARIES"
      ]
    },
    {
      "cell_type": "code",
      "execution_count": 8,
      "metadata": {
        "id": "RWj1Pam5ak6h"
      },
      "outputs": [],
      "source": [
        "import sys\n",
        "import numpy as np\n",
        "import pandas as pd\n",
        "import seaborn as sns\n",
        "%matplotlib inline\n",
        "import pickle\n",
        "from sklearn.preprocessing import LabelEncoder\n",
        "from sklearn.preprocessing import OneHotEncoder\n",
        "from sklearn.model_selection import train_test_split\n",
        "from sklearn.preprocessing import StandardScaler\n",
        "from sklearn.tree import DecisionTreeClassifier\n",
        "from sklearn.ensemble import RandomForestClassifier, ExtraTreesClassifier # Import ExtraTreesClassifier from ensemble\n",
        "from sklearn.linear_model import LogisticRegression\n",
        "from sklearn.metrics import classification_report, confusion_matrix\n",
        "from sklearn.metrics import accuracy_score\n",
        "import sklearn.metrics as metrics"
      ]
    },
    {
      "cell_type": "markdown",
      "metadata": {
        "id": "Wq-cG1cI9DX_"
      },
      "source": [
        "#READING THE  DATASET"
      ]
    },
    {
      "cell_type": "code",
      "execution_count": 9,
      "metadata": {
        "id": "5LkB8m0-myK0"
      },
      "outputs": [
        {
          "data": {
            "text/html": [
              "<div>\n",
              "<style scoped>\n",
              "    .dataframe tbody tr th:only-of-type {\n",
              "        vertical-align: middle;\n",
              "    }\n",
              "\n",
              "    .dataframe tbody tr th {\n",
              "        vertical-align: top;\n",
              "    }\n",
              "\n",
              "    .dataframe thead th {\n",
              "        text-align: right;\n",
              "    }\n",
              "</style>\n",
              "<table border=\"1\" class=\"dataframe\">\n",
              "  <thead>\n",
              "    <tr style=\"text-align: right;\">\n",
              "      <th></th>\n",
              "      <th>YEAR</th>\n",
              "      <th>QUARTER</th>\n",
              "      <th>MONTH</th>\n",
              "      <th>DAY_OF_MONTH</th>\n",
              "      <th>DAY_OF_WEEK</th>\n",
              "      <th>UNIQUE_CARRIER</th>\n",
              "      <th>TAIL_NUM</th>\n",
              "      <th>FL_NUM</th>\n",
              "      <th>ORIGIN_AIRPORT_ID</th>\n",
              "      <th>ORIGIN</th>\n",
              "      <th>...</th>\n",
              "      <th>DEP_DEL15</th>\n",
              "      <th>CRS_ARR_TIME</th>\n",
              "      <th>ARR_TIME</th>\n",
              "      <th>ARR_DELAY</th>\n",
              "      <th>ARR_DEL15</th>\n",
              "      <th>CANCELLED</th>\n",
              "      <th>DIVERTED</th>\n",
              "      <th>CRS_ELAPSED_TIME</th>\n",
              "      <th>ACTUAL_ELAPSED_TIME</th>\n",
              "      <th>DISTANCE</th>\n",
              "    </tr>\n",
              "  </thead>\n",
              "  <tbody>\n",
              "    <tr>\n",
              "      <th>0</th>\n",
              "      <td>2016</td>\n",
              "      <td>1</td>\n",
              "      <td>1</td>\n",
              "      <td>1</td>\n",
              "      <td>5</td>\n",
              "      <td>DL</td>\n",
              "      <td>N836DN</td>\n",
              "      <td>1399</td>\n",
              "      <td>10397</td>\n",
              "      <td>ATL</td>\n",
              "      <td>...</td>\n",
              "      <td>0.0</td>\n",
              "      <td>2143</td>\n",
              "      <td>2102.0</td>\n",
              "      <td>-41.0</td>\n",
              "      <td>0.0</td>\n",
              "      <td>0</td>\n",
              "      <td>0</td>\n",
              "      <td>338</td>\n",
              "      <td>295.0</td>\n",
              "      <td>2182</td>\n",
              "    </tr>\n",
              "    <tr>\n",
              "      <th>1</th>\n",
              "      <td>2016</td>\n",
              "      <td>1</td>\n",
              "      <td>1</td>\n",
              "      <td>1</td>\n",
              "      <td>5</td>\n",
              "      <td>DL</td>\n",
              "      <td>N964DN</td>\n",
              "      <td>1476</td>\n",
              "      <td>11433</td>\n",
              "      <td>DTW</td>\n",
              "      <td>...</td>\n",
              "      <td>0.0</td>\n",
              "      <td>1435</td>\n",
              "      <td>1439.0</td>\n",
              "      <td>4.0</td>\n",
              "      <td>0.0</td>\n",
              "      <td>0</td>\n",
              "      <td>0</td>\n",
              "      <td>110</td>\n",
              "      <td>115.0</td>\n",
              "      <td>528</td>\n",
              "    </tr>\n",
              "    <tr>\n",
              "      <th>2</th>\n",
              "      <td>2016</td>\n",
              "      <td>1</td>\n",
              "      <td>1</td>\n",
              "      <td>1</td>\n",
              "      <td>5</td>\n",
              "      <td>DL</td>\n",
              "      <td>N813DN</td>\n",
              "      <td>1597</td>\n",
              "      <td>10397</td>\n",
              "      <td>ATL</td>\n",
              "      <td>...</td>\n",
              "      <td>0.0</td>\n",
              "      <td>1215</td>\n",
              "      <td>1142.0</td>\n",
              "      <td>-33.0</td>\n",
              "      <td>0.0</td>\n",
              "      <td>0</td>\n",
              "      <td>0</td>\n",
              "      <td>335</td>\n",
              "      <td>300.0</td>\n",
              "      <td>2182</td>\n",
              "    </tr>\n",
              "    <tr>\n",
              "      <th>3</th>\n",
              "      <td>2016</td>\n",
              "      <td>1</td>\n",
              "      <td>1</td>\n",
              "      <td>1</td>\n",
              "      <td>5</td>\n",
              "      <td>DL</td>\n",
              "      <td>N587NW</td>\n",
              "      <td>1768</td>\n",
              "      <td>14747</td>\n",
              "      <td>SEA</td>\n",
              "      <td>...</td>\n",
              "      <td>0.0</td>\n",
              "      <td>1335</td>\n",
              "      <td>1345.0</td>\n",
              "      <td>10.0</td>\n",
              "      <td>0.0</td>\n",
              "      <td>0</td>\n",
              "      <td>0</td>\n",
              "      <td>196</td>\n",
              "      <td>205.0</td>\n",
              "      <td>1399</td>\n",
              "    </tr>\n",
              "    <tr>\n",
              "      <th>4</th>\n",
              "      <td>2016</td>\n",
              "      <td>1</td>\n",
              "      <td>1</td>\n",
              "      <td>1</td>\n",
              "      <td>5</td>\n",
              "      <td>DL</td>\n",
              "      <td>N836DN</td>\n",
              "      <td>1823</td>\n",
              "      <td>14747</td>\n",
              "      <td>SEA</td>\n",
              "      <td>...</td>\n",
              "      <td>0.0</td>\n",
              "      <td>607</td>\n",
              "      <td>615.0</td>\n",
              "      <td>8.0</td>\n",
              "      <td>0.0</td>\n",
              "      <td>0</td>\n",
              "      <td>0</td>\n",
              "      <td>247</td>\n",
              "      <td>259.0</td>\n",
              "      <td>1927</td>\n",
              "    </tr>\n",
              "    <tr>\n",
              "      <th>...</th>\n",
              "      <td>...</td>\n",
              "      <td>...</td>\n",
              "      <td>...</td>\n",
              "      <td>...</td>\n",
              "      <td>...</td>\n",
              "      <td>...</td>\n",
              "      <td>...</td>\n",
              "      <td>...</td>\n",
              "      <td>...</td>\n",
              "      <td>...</td>\n",
              "      <td>...</td>\n",
              "      <td>...</td>\n",
              "      <td>...</td>\n",
              "      <td>...</td>\n",
              "      <td>...</td>\n",
              "      <td>...</td>\n",
              "      <td>...</td>\n",
              "      <td>...</td>\n",
              "      <td>...</td>\n",
              "      <td>...</td>\n",
              "      <td>...</td>\n",
              "    </tr>\n",
              "    <tr>\n",
              "      <th>11226</th>\n",
              "      <td>2016</td>\n",
              "      <td>4</td>\n",
              "      <td>12</td>\n",
              "      <td>30</td>\n",
              "      <td>5</td>\n",
              "      <td>DL</td>\n",
              "      <td>N940DL</td>\n",
              "      <td>1715</td>\n",
              "      <td>11433</td>\n",
              "      <td>DTW</td>\n",
              "      <td>...</td>\n",
              "      <td>0.0</td>\n",
              "      <td>1223</td>\n",
              "      <td>1148.0</td>\n",
              "      <td>-35.0</td>\n",
              "      <td>0.0</td>\n",
              "      <td>0</td>\n",
              "      <td>0</td>\n",
              "      <td>138</td>\n",
              "      <td>105.0</td>\n",
              "      <td>594</td>\n",
              "    </tr>\n",
              "    <tr>\n",
              "      <th>11227</th>\n",
              "      <td>2016</td>\n",
              "      <td>4</td>\n",
              "      <td>12</td>\n",
              "      <td>30</td>\n",
              "      <td>5</td>\n",
              "      <td>DL</td>\n",
              "      <td>N836DN</td>\n",
              "      <td>1770</td>\n",
              "      <td>14747</td>\n",
              "      <td>SEA</td>\n",
              "      <td>...</td>\n",
              "      <td>1.0</td>\n",
              "      <td>2046</td>\n",
              "      <td>2100.0</td>\n",
              "      <td>14.0</td>\n",
              "      <td>0.0</td>\n",
              "      <td>0</td>\n",
              "      <td>0</td>\n",
              "      <td>201</td>\n",
              "      <td>181.0</td>\n",
              "      <td>1399</td>\n",
              "    </tr>\n",
              "    <tr>\n",
              "      <th>11228</th>\n",
              "      <td>2016</td>\n",
              "      <td>4</td>\n",
              "      <td>12</td>\n",
              "      <td>30</td>\n",
              "      <td>5</td>\n",
              "      <td>DL</td>\n",
              "      <td>N583NW</td>\n",
              "      <td>1823</td>\n",
              "      <td>11433</td>\n",
              "      <td>DTW</td>\n",
              "      <td>...</td>\n",
              "      <td>0.0</td>\n",
              "      <td>2210</td>\n",
              "      <td>2154.0</td>\n",
              "      <td>-16.0</td>\n",
              "      <td>0.0</td>\n",
              "      <td>0</td>\n",
              "      <td>0</td>\n",
              "      <td>311</td>\n",
              "      <td>295.0</td>\n",
              "      <td>1927</td>\n",
              "    </tr>\n",
              "    <tr>\n",
              "      <th>11229</th>\n",
              "      <td>2016</td>\n",
              "      <td>4</td>\n",
              "      <td>12</td>\n",
              "      <td>30</td>\n",
              "      <td>5</td>\n",
              "      <td>DL</td>\n",
              "      <td>N554NW</td>\n",
              "      <td>1901</td>\n",
              "      <td>10397</td>\n",
              "      <td>ATL</td>\n",
              "      <td>...</td>\n",
              "      <td>0.0</td>\n",
              "      <td>1806</td>\n",
              "      <td>1801.0</td>\n",
              "      <td>-5.0</td>\n",
              "      <td>0.0</td>\n",
              "      <td>0</td>\n",
              "      <td>0</td>\n",
              "      <td>336</td>\n",
              "      <td>332.0</td>\n",
              "      <td>2182</td>\n",
              "    </tr>\n",
              "    <tr>\n",
              "      <th>11230</th>\n",
              "      <td>2016</td>\n",
              "      <td>4</td>\n",
              "      <td>12</td>\n",
              "      <td>30</td>\n",
              "      <td>5</td>\n",
              "      <td>DL</td>\n",
              "      <td>N843DN</td>\n",
              "      <td>2005</td>\n",
              "      <td>10397</td>\n",
              "      <td>ATL</td>\n",
              "      <td>...</td>\n",
              "      <td>0.0</td>\n",
              "      <td>925</td>\n",
              "      <td>913.0</td>\n",
              "      <td>-12.0</td>\n",
              "      <td>0.0</td>\n",
              "      <td>0</td>\n",
              "      <td>0</td>\n",
              "      <td>120</td>\n",
              "      <td>110.0</td>\n",
              "      <td>594</td>\n",
              "    </tr>\n",
              "  </tbody>\n",
              "</table>\n",
              "<p>11231 rows × 25 columns</p>\n",
              "</div>"
            ],
            "text/plain": [
              "       YEAR  QUARTER  MONTH  DAY_OF_MONTH  DAY_OF_WEEK UNIQUE_CARRIER  \\\n",
              "0      2016        1      1             1            5             DL   \n",
              "1      2016        1      1             1            5             DL   \n",
              "2      2016        1      1             1            5             DL   \n",
              "3      2016        1      1             1            5             DL   \n",
              "4      2016        1      1             1            5             DL   \n",
              "...     ...      ...    ...           ...          ...            ...   \n",
              "11226  2016        4     12            30            5             DL   \n",
              "11227  2016        4     12            30            5             DL   \n",
              "11228  2016        4     12            30            5             DL   \n",
              "11229  2016        4     12            30            5             DL   \n",
              "11230  2016        4     12            30            5             DL   \n",
              "\n",
              "      TAIL_NUM  FL_NUM  ORIGIN_AIRPORT_ID ORIGIN  ...  DEP_DEL15 CRS_ARR_TIME  \\\n",
              "0       N836DN    1399              10397    ATL  ...        0.0         2143   \n",
              "1       N964DN    1476              11433    DTW  ...        0.0         1435   \n",
              "2       N813DN    1597              10397    ATL  ...        0.0         1215   \n",
              "3       N587NW    1768              14747    SEA  ...        0.0         1335   \n",
              "4       N836DN    1823              14747    SEA  ...        0.0          607   \n",
              "...        ...     ...                ...    ...  ...        ...          ...   \n",
              "11226   N940DL    1715              11433    DTW  ...        0.0         1223   \n",
              "11227   N836DN    1770              14747    SEA  ...        1.0         2046   \n",
              "11228   N583NW    1823              11433    DTW  ...        0.0         2210   \n",
              "11229   N554NW    1901              10397    ATL  ...        0.0         1806   \n",
              "11230   N843DN    2005              10397    ATL  ...        0.0          925   \n",
              "\n",
              "       ARR_TIME  ARR_DELAY  ARR_DEL15  CANCELLED  DIVERTED  CRS_ELAPSED_TIME  \\\n",
              "0        2102.0      -41.0        0.0          0         0               338   \n",
              "1        1439.0        4.0        0.0          0         0               110   \n",
              "2        1142.0      -33.0        0.0          0         0               335   \n",
              "3        1345.0       10.0        0.0          0         0               196   \n",
              "4         615.0        8.0        0.0          0         0               247   \n",
              "...         ...        ...        ...        ...       ...               ...   \n",
              "11226    1148.0      -35.0        0.0          0         0               138   \n",
              "11227    2100.0       14.0        0.0          0         0               201   \n",
              "11228    2154.0      -16.0        0.0          0         0               311   \n",
              "11229    1801.0       -5.0        0.0          0         0               336   \n",
              "11230     913.0      -12.0        0.0          0         0               120   \n",
              "\n",
              "       ACTUAL_ELAPSED_TIME  DISTANCE  \n",
              "0                    295.0      2182  \n",
              "1                    115.0       528  \n",
              "2                    300.0      2182  \n",
              "3                    205.0      1399  \n",
              "4                    259.0      1927  \n",
              "...                    ...       ...  \n",
              "11226                105.0       594  \n",
              "11227                181.0      1399  \n",
              "11228                295.0      1927  \n",
              "11229                332.0      2182  \n",
              "11230                110.0       594  \n",
              "\n",
              "[11231 rows x 25 columns]"
            ]
          },
          "execution_count": 9,
          "metadata": {},
          "output_type": "execute_result"
        }
      ],
      "source": [
        "flights=pd.read_csv(\"flightdata.csv\")\n",
        "flights"
      ]
    },
    {
      "cell_type": "code",
      "execution_count": 10,
      "metadata": {
        "colab": {
          "base_uri": "https://localhost:8080/",
          "height": 255
        },
        "id": "j8QOUWZBmyOA",
        "outputId": "54a2357d-c8d2-4055-9958-9e2d790fb304"
      },
      "outputs": [
        {
          "data": {
            "text/html": [
              "<div>\n",
              "<style scoped>\n",
              "    .dataframe tbody tr th:only-of-type {\n",
              "        vertical-align: middle;\n",
              "    }\n",
              "\n",
              "    .dataframe tbody tr th {\n",
              "        vertical-align: top;\n",
              "    }\n",
              "\n",
              "    .dataframe thead th {\n",
              "        text-align: right;\n",
              "    }\n",
              "</style>\n",
              "<table border=\"1\" class=\"dataframe\">\n",
              "  <thead>\n",
              "    <tr style=\"text-align: right;\">\n",
              "      <th></th>\n",
              "      <th>YEAR</th>\n",
              "      <th>QUARTER</th>\n",
              "      <th>MONTH</th>\n",
              "      <th>DAY_OF_MONTH</th>\n",
              "      <th>DAY_OF_WEEK</th>\n",
              "      <th>UNIQUE_CARRIER</th>\n",
              "      <th>TAIL_NUM</th>\n",
              "      <th>FL_NUM</th>\n",
              "      <th>ORIGIN_AIRPORT_ID</th>\n",
              "      <th>ORIGIN</th>\n",
              "      <th>...</th>\n",
              "      <th>DEP_DEL15</th>\n",
              "      <th>CRS_ARR_TIME</th>\n",
              "      <th>ARR_TIME</th>\n",
              "      <th>ARR_DELAY</th>\n",
              "      <th>ARR_DEL15</th>\n",
              "      <th>CANCELLED</th>\n",
              "      <th>DIVERTED</th>\n",
              "      <th>CRS_ELAPSED_TIME</th>\n",
              "      <th>ACTUAL_ELAPSED_TIME</th>\n",
              "      <th>DISTANCE</th>\n",
              "    </tr>\n",
              "  </thead>\n",
              "  <tbody>\n",
              "    <tr>\n",
              "      <th>0</th>\n",
              "      <td>2016</td>\n",
              "      <td>1</td>\n",
              "      <td>1</td>\n",
              "      <td>1</td>\n",
              "      <td>5</td>\n",
              "      <td>DL</td>\n",
              "      <td>N836DN</td>\n",
              "      <td>1399</td>\n",
              "      <td>10397</td>\n",
              "      <td>ATL</td>\n",
              "      <td>...</td>\n",
              "      <td>0.0</td>\n",
              "      <td>2143</td>\n",
              "      <td>2102.0</td>\n",
              "      <td>-41.0</td>\n",
              "      <td>0.0</td>\n",
              "      <td>0</td>\n",
              "      <td>0</td>\n",
              "      <td>338</td>\n",
              "      <td>295.0</td>\n",
              "      <td>2182</td>\n",
              "    </tr>\n",
              "    <tr>\n",
              "      <th>1</th>\n",
              "      <td>2016</td>\n",
              "      <td>1</td>\n",
              "      <td>1</td>\n",
              "      <td>1</td>\n",
              "      <td>5</td>\n",
              "      <td>DL</td>\n",
              "      <td>N964DN</td>\n",
              "      <td>1476</td>\n",
              "      <td>11433</td>\n",
              "      <td>DTW</td>\n",
              "      <td>...</td>\n",
              "      <td>0.0</td>\n",
              "      <td>1435</td>\n",
              "      <td>1439.0</td>\n",
              "      <td>4.0</td>\n",
              "      <td>0.0</td>\n",
              "      <td>0</td>\n",
              "      <td>0</td>\n",
              "      <td>110</td>\n",
              "      <td>115.0</td>\n",
              "      <td>528</td>\n",
              "    </tr>\n",
              "    <tr>\n",
              "      <th>2</th>\n",
              "      <td>2016</td>\n",
              "      <td>1</td>\n",
              "      <td>1</td>\n",
              "      <td>1</td>\n",
              "      <td>5</td>\n",
              "      <td>DL</td>\n",
              "      <td>N813DN</td>\n",
              "      <td>1597</td>\n",
              "      <td>10397</td>\n",
              "      <td>ATL</td>\n",
              "      <td>...</td>\n",
              "      <td>0.0</td>\n",
              "      <td>1215</td>\n",
              "      <td>1142.0</td>\n",
              "      <td>-33.0</td>\n",
              "      <td>0.0</td>\n",
              "      <td>0</td>\n",
              "      <td>0</td>\n",
              "      <td>335</td>\n",
              "      <td>300.0</td>\n",
              "      <td>2182</td>\n",
              "    </tr>\n",
              "    <tr>\n",
              "      <th>3</th>\n",
              "      <td>2016</td>\n",
              "      <td>1</td>\n",
              "      <td>1</td>\n",
              "      <td>1</td>\n",
              "      <td>5</td>\n",
              "      <td>DL</td>\n",
              "      <td>N587NW</td>\n",
              "      <td>1768</td>\n",
              "      <td>14747</td>\n",
              "      <td>SEA</td>\n",
              "      <td>...</td>\n",
              "      <td>0.0</td>\n",
              "      <td>1335</td>\n",
              "      <td>1345.0</td>\n",
              "      <td>10.0</td>\n",
              "      <td>0.0</td>\n",
              "      <td>0</td>\n",
              "      <td>0</td>\n",
              "      <td>196</td>\n",
              "      <td>205.0</td>\n",
              "      <td>1399</td>\n",
              "    </tr>\n",
              "    <tr>\n",
              "      <th>4</th>\n",
              "      <td>2016</td>\n",
              "      <td>1</td>\n",
              "      <td>1</td>\n",
              "      <td>1</td>\n",
              "      <td>5</td>\n",
              "      <td>DL</td>\n",
              "      <td>N836DN</td>\n",
              "      <td>1823</td>\n",
              "      <td>14747</td>\n",
              "      <td>SEA</td>\n",
              "      <td>...</td>\n",
              "      <td>0.0</td>\n",
              "      <td>607</td>\n",
              "      <td>615.0</td>\n",
              "      <td>8.0</td>\n",
              "      <td>0.0</td>\n",
              "      <td>0</td>\n",
              "      <td>0</td>\n",
              "      <td>247</td>\n",
              "      <td>259.0</td>\n",
              "      <td>1927</td>\n",
              "    </tr>\n",
              "  </tbody>\n",
              "</table>\n",
              "<p>5 rows × 25 columns</p>\n",
              "</div>"
            ],
            "text/plain": [
              "   YEAR  QUARTER  MONTH  DAY_OF_MONTH  DAY_OF_WEEK UNIQUE_CARRIER TAIL_NUM  \\\n",
              "0  2016        1      1             1            5             DL   N836DN   \n",
              "1  2016        1      1             1            5             DL   N964DN   \n",
              "2  2016        1      1             1            5             DL   N813DN   \n",
              "3  2016        1      1             1            5             DL   N587NW   \n",
              "4  2016        1      1             1            5             DL   N836DN   \n",
              "\n",
              "   FL_NUM  ORIGIN_AIRPORT_ID ORIGIN  ...  DEP_DEL15 CRS_ARR_TIME  ARR_TIME  \\\n",
              "0    1399              10397    ATL  ...        0.0         2143    2102.0   \n",
              "1    1476              11433    DTW  ...        0.0         1435    1439.0   \n",
              "2    1597              10397    ATL  ...        0.0         1215    1142.0   \n",
              "3    1768              14747    SEA  ...        0.0         1335    1345.0   \n",
              "4    1823              14747    SEA  ...        0.0          607     615.0   \n",
              "\n",
              "   ARR_DELAY  ARR_DEL15  CANCELLED  DIVERTED  CRS_ELAPSED_TIME  \\\n",
              "0      -41.0        0.0          0         0               338   \n",
              "1        4.0        0.0          0         0               110   \n",
              "2      -33.0        0.0          0         0               335   \n",
              "3       10.0        0.0          0         0               196   \n",
              "4        8.0        0.0          0         0               247   \n",
              "\n",
              "   ACTUAL_ELAPSED_TIME  DISTANCE  \n",
              "0                295.0      2182  \n",
              "1                115.0       528  \n",
              "2                300.0      2182  \n",
              "3                205.0      1399  \n",
              "4                259.0      1927  \n",
              "\n",
              "[5 rows x 25 columns]"
            ]
          },
          "execution_count": 10,
          "metadata": {},
          "output_type": "execute_result"
        }
      ],
      "source": [
        "flights.head()"
      ]
    },
    {
      "cell_type": "code",
      "execution_count": 11,
      "metadata": {
        "colab": {
          "base_uri": "https://localhost:8080/",
          "height": 255
        },
        "id": "Umm3sPg_myT_",
        "outputId": "f8ae3594-ad17-4c3c-81d8-3fe080dfc5ab"
      },
      "outputs": [
        {
          "data": {
            "text/html": [
              "<div>\n",
              "<style scoped>\n",
              "    .dataframe tbody tr th:only-of-type {\n",
              "        vertical-align: middle;\n",
              "    }\n",
              "\n",
              "    .dataframe tbody tr th {\n",
              "        vertical-align: top;\n",
              "    }\n",
              "\n",
              "    .dataframe thead th {\n",
              "        text-align: right;\n",
              "    }\n",
              "</style>\n",
              "<table border=\"1\" class=\"dataframe\">\n",
              "  <thead>\n",
              "    <tr style=\"text-align: right;\">\n",
              "      <th></th>\n",
              "      <th>YEAR</th>\n",
              "      <th>QUARTER</th>\n",
              "      <th>MONTH</th>\n",
              "      <th>DAY_OF_MONTH</th>\n",
              "      <th>DAY_OF_WEEK</th>\n",
              "      <th>UNIQUE_CARRIER</th>\n",
              "      <th>TAIL_NUM</th>\n",
              "      <th>FL_NUM</th>\n",
              "      <th>ORIGIN_AIRPORT_ID</th>\n",
              "      <th>ORIGIN</th>\n",
              "      <th>...</th>\n",
              "      <th>DEP_DEL15</th>\n",
              "      <th>CRS_ARR_TIME</th>\n",
              "      <th>ARR_TIME</th>\n",
              "      <th>ARR_DELAY</th>\n",
              "      <th>ARR_DEL15</th>\n",
              "      <th>CANCELLED</th>\n",
              "      <th>DIVERTED</th>\n",
              "      <th>CRS_ELAPSED_TIME</th>\n",
              "      <th>ACTUAL_ELAPSED_TIME</th>\n",
              "      <th>DISTANCE</th>\n",
              "    </tr>\n",
              "  </thead>\n",
              "  <tbody>\n",
              "    <tr>\n",
              "      <th>11226</th>\n",
              "      <td>2016</td>\n",
              "      <td>4</td>\n",
              "      <td>12</td>\n",
              "      <td>30</td>\n",
              "      <td>5</td>\n",
              "      <td>DL</td>\n",
              "      <td>N940DL</td>\n",
              "      <td>1715</td>\n",
              "      <td>11433</td>\n",
              "      <td>DTW</td>\n",
              "      <td>...</td>\n",
              "      <td>0.0</td>\n",
              "      <td>1223</td>\n",
              "      <td>1148.0</td>\n",
              "      <td>-35.0</td>\n",
              "      <td>0.0</td>\n",
              "      <td>0</td>\n",
              "      <td>0</td>\n",
              "      <td>138</td>\n",
              "      <td>105.0</td>\n",
              "      <td>594</td>\n",
              "    </tr>\n",
              "    <tr>\n",
              "      <th>11227</th>\n",
              "      <td>2016</td>\n",
              "      <td>4</td>\n",
              "      <td>12</td>\n",
              "      <td>30</td>\n",
              "      <td>5</td>\n",
              "      <td>DL</td>\n",
              "      <td>N836DN</td>\n",
              "      <td>1770</td>\n",
              "      <td>14747</td>\n",
              "      <td>SEA</td>\n",
              "      <td>...</td>\n",
              "      <td>1.0</td>\n",
              "      <td>2046</td>\n",
              "      <td>2100.0</td>\n",
              "      <td>14.0</td>\n",
              "      <td>0.0</td>\n",
              "      <td>0</td>\n",
              "      <td>0</td>\n",
              "      <td>201</td>\n",
              "      <td>181.0</td>\n",
              "      <td>1399</td>\n",
              "    </tr>\n",
              "    <tr>\n",
              "      <th>11228</th>\n",
              "      <td>2016</td>\n",
              "      <td>4</td>\n",
              "      <td>12</td>\n",
              "      <td>30</td>\n",
              "      <td>5</td>\n",
              "      <td>DL</td>\n",
              "      <td>N583NW</td>\n",
              "      <td>1823</td>\n",
              "      <td>11433</td>\n",
              "      <td>DTW</td>\n",
              "      <td>...</td>\n",
              "      <td>0.0</td>\n",
              "      <td>2210</td>\n",
              "      <td>2154.0</td>\n",
              "      <td>-16.0</td>\n",
              "      <td>0.0</td>\n",
              "      <td>0</td>\n",
              "      <td>0</td>\n",
              "      <td>311</td>\n",
              "      <td>295.0</td>\n",
              "      <td>1927</td>\n",
              "    </tr>\n",
              "    <tr>\n",
              "      <th>11229</th>\n",
              "      <td>2016</td>\n",
              "      <td>4</td>\n",
              "      <td>12</td>\n",
              "      <td>30</td>\n",
              "      <td>5</td>\n",
              "      <td>DL</td>\n",
              "      <td>N554NW</td>\n",
              "      <td>1901</td>\n",
              "      <td>10397</td>\n",
              "      <td>ATL</td>\n",
              "      <td>...</td>\n",
              "      <td>0.0</td>\n",
              "      <td>1806</td>\n",
              "      <td>1801.0</td>\n",
              "      <td>-5.0</td>\n",
              "      <td>0.0</td>\n",
              "      <td>0</td>\n",
              "      <td>0</td>\n",
              "      <td>336</td>\n",
              "      <td>332.0</td>\n",
              "      <td>2182</td>\n",
              "    </tr>\n",
              "    <tr>\n",
              "      <th>11230</th>\n",
              "      <td>2016</td>\n",
              "      <td>4</td>\n",
              "      <td>12</td>\n",
              "      <td>30</td>\n",
              "      <td>5</td>\n",
              "      <td>DL</td>\n",
              "      <td>N843DN</td>\n",
              "      <td>2005</td>\n",
              "      <td>10397</td>\n",
              "      <td>ATL</td>\n",
              "      <td>...</td>\n",
              "      <td>0.0</td>\n",
              "      <td>925</td>\n",
              "      <td>913.0</td>\n",
              "      <td>-12.0</td>\n",
              "      <td>0.0</td>\n",
              "      <td>0</td>\n",
              "      <td>0</td>\n",
              "      <td>120</td>\n",
              "      <td>110.0</td>\n",
              "      <td>594</td>\n",
              "    </tr>\n",
              "  </tbody>\n",
              "</table>\n",
              "<p>5 rows × 25 columns</p>\n",
              "</div>"
            ],
            "text/plain": [
              "       YEAR  QUARTER  MONTH  DAY_OF_MONTH  DAY_OF_WEEK UNIQUE_CARRIER  \\\n",
              "11226  2016        4     12            30            5             DL   \n",
              "11227  2016        4     12            30            5             DL   \n",
              "11228  2016        4     12            30            5             DL   \n",
              "11229  2016        4     12            30            5             DL   \n",
              "11230  2016        4     12            30            5             DL   \n",
              "\n",
              "      TAIL_NUM  FL_NUM  ORIGIN_AIRPORT_ID ORIGIN  ...  DEP_DEL15 CRS_ARR_TIME  \\\n",
              "11226   N940DL    1715              11433    DTW  ...        0.0         1223   \n",
              "11227   N836DN    1770              14747    SEA  ...        1.0         2046   \n",
              "11228   N583NW    1823              11433    DTW  ...        0.0         2210   \n",
              "11229   N554NW    1901              10397    ATL  ...        0.0         1806   \n",
              "11230   N843DN    2005              10397    ATL  ...        0.0          925   \n",
              "\n",
              "       ARR_TIME  ARR_DELAY  ARR_DEL15  CANCELLED  DIVERTED  CRS_ELAPSED_TIME  \\\n",
              "11226    1148.0      -35.0        0.0          0         0               138   \n",
              "11227    2100.0       14.0        0.0          0         0               201   \n",
              "11228    2154.0      -16.0        0.0          0         0               311   \n",
              "11229    1801.0       -5.0        0.0          0         0               336   \n",
              "11230     913.0      -12.0        0.0          0         0               120   \n",
              "\n",
              "       ACTUAL_ELAPSED_TIME  DISTANCE  \n",
              "11226                105.0       594  \n",
              "11227                181.0      1399  \n",
              "11228                295.0      1927  \n",
              "11229                332.0      2182  \n",
              "11230                110.0       594  \n",
              "\n",
              "[5 rows x 25 columns]"
            ]
          },
          "execution_count": 11,
          "metadata": {},
          "output_type": "execute_result"
        }
      ],
      "source": [
        "flights.tail()"
      ]
    },
    {
      "cell_type": "markdown",
      "metadata": {
        "id": "2ozqVBTU9KxE"
      },
      "source": [
        "#PREPROCESSING"
      ]
    },
    {
      "cell_type": "code",
      "execution_count": 12,
      "metadata": {
        "colab": {
          "base_uri": "https://localhost:8080/"
        },
        "id": "oKi_WhV7nxun",
        "outputId": "cfa08e79-5572-4c4f-c8a4-e524487b6780"
      },
      "outputs": [
        {
          "name": "stdout",
          "output_type": "stream",
          "text": [
            "<class 'pandas.core.frame.DataFrame'>\n",
            "RangeIndex: 11231 entries, 0 to 11230\n",
            "Data columns (total 25 columns):\n",
            " #   Column               Non-Null Count  Dtype  \n",
            "---  ------               --------------  -----  \n",
            " 0   YEAR                 11231 non-null  int64  \n",
            " 1   QUARTER              11231 non-null  int64  \n",
            " 2   MONTH                11231 non-null  int64  \n",
            " 3   DAY_OF_MONTH         11231 non-null  int64  \n",
            " 4   DAY_OF_WEEK          11231 non-null  int64  \n",
            " 5   UNIQUE_CARRIER       11231 non-null  object \n",
            " 6   TAIL_NUM             11231 non-null  object \n",
            " 7   FL_NUM               11231 non-null  int64  \n",
            " 8   ORIGIN_AIRPORT_ID    11231 non-null  int64  \n",
            " 9   ORIGIN               11231 non-null  object \n",
            " 10  DEST_AIRPORT_ID      11231 non-null  int64  \n",
            " 11  DEST                 11231 non-null  object \n",
            " 12  CRS_DEP_TIME         11231 non-null  int64  \n",
            " 13  DEP_TIME             11124 non-null  float64\n",
            " 14  DEP_DELAY            11124 non-null  float64\n",
            " 15  DEP_DEL15            11124 non-null  float64\n",
            " 16  CRS_ARR_TIME         11231 non-null  int64  \n",
            " 17  ARR_TIME             11116 non-null  float64\n",
            " 18  ARR_DELAY            11043 non-null  float64\n",
            " 19  ARR_DEL15            11045 non-null  float64\n",
            " 20  CANCELLED            11231 non-null  int64  \n",
            " 21  DIVERTED             11231 non-null  int64  \n",
            " 22  CRS_ELAPSED_TIME     11231 non-null  int64  \n",
            " 23  ACTUAL_ELAPSED_TIME  11043 non-null  float64\n",
            " 24  DISTANCE             11231 non-null  int64  \n",
            "dtypes: float64(7), int64(14), object(4)\n",
            "memory usage: 2.1+ MB\n"
          ]
        }
      ],
      "source": [
        "flights.info()"
      ]
    },
    {
      "cell_type": "code",
      "execution_count": 13,
      "metadata": {
        "colab": {
          "base_uri": "https://localhost:8080/",
          "height": 349
        },
        "id": "j2WZYLRvnxyF",
        "outputId": "eb362b6a-4236-4fb1-ccb6-f5acbb216ca5"
      },
      "outputs": [
        {
          "data": {
            "text/html": [
              "<div>\n",
              "<style scoped>\n",
              "    .dataframe tbody tr th:only-of-type {\n",
              "        vertical-align: middle;\n",
              "    }\n",
              "\n",
              "    .dataframe tbody tr th {\n",
              "        vertical-align: top;\n",
              "    }\n",
              "\n",
              "    .dataframe thead th {\n",
              "        text-align: right;\n",
              "    }\n",
              "</style>\n",
              "<table border=\"1\" class=\"dataframe\">\n",
              "  <thead>\n",
              "    <tr style=\"text-align: right;\">\n",
              "      <th></th>\n",
              "      <th>YEAR</th>\n",
              "      <th>QUARTER</th>\n",
              "      <th>MONTH</th>\n",
              "      <th>DAY_OF_MONTH</th>\n",
              "      <th>DAY_OF_WEEK</th>\n",
              "      <th>FL_NUM</th>\n",
              "      <th>ORIGIN_AIRPORT_ID</th>\n",
              "      <th>DEST_AIRPORT_ID</th>\n",
              "      <th>CRS_DEP_TIME</th>\n",
              "      <th>DEP_TIME</th>\n",
              "      <th>...</th>\n",
              "      <th>DEP_DEL15</th>\n",
              "      <th>CRS_ARR_TIME</th>\n",
              "      <th>ARR_TIME</th>\n",
              "      <th>ARR_DELAY</th>\n",
              "      <th>ARR_DEL15</th>\n",
              "      <th>CANCELLED</th>\n",
              "      <th>DIVERTED</th>\n",
              "      <th>CRS_ELAPSED_TIME</th>\n",
              "      <th>ACTUAL_ELAPSED_TIME</th>\n",
              "      <th>DISTANCE</th>\n",
              "    </tr>\n",
              "  </thead>\n",
              "  <tbody>\n",
              "    <tr>\n",
              "      <th>count</th>\n",
              "      <td>11231.0</td>\n",
              "      <td>11231.000000</td>\n",
              "      <td>11231.000000</td>\n",
              "      <td>11231.000000</td>\n",
              "      <td>11231.000000</td>\n",
              "      <td>11231.000000</td>\n",
              "      <td>11231.000000</td>\n",
              "      <td>11231.000000</td>\n",
              "      <td>11231.000000</td>\n",
              "      <td>11124.000000</td>\n",
              "      <td>...</td>\n",
              "      <td>11124.000000</td>\n",
              "      <td>11231.000000</td>\n",
              "      <td>11116.000000</td>\n",
              "      <td>11043.000000</td>\n",
              "      <td>11045.000000</td>\n",
              "      <td>11231.000000</td>\n",
              "      <td>11231.000000</td>\n",
              "      <td>11231.000000</td>\n",
              "      <td>11043.000000</td>\n",
              "      <td>11231.000000</td>\n",
              "    </tr>\n",
              "    <tr>\n",
              "      <th>mean</th>\n",
              "      <td>2016.0</td>\n",
              "      <td>2.544475</td>\n",
              "      <td>6.628973</td>\n",
              "      <td>15.790758</td>\n",
              "      <td>3.960199</td>\n",
              "      <td>1334.325617</td>\n",
              "      <td>12334.516695</td>\n",
              "      <td>12302.274508</td>\n",
              "      <td>1320.798326</td>\n",
              "      <td>1327.189410</td>\n",
              "      <td>...</td>\n",
              "      <td>0.142844</td>\n",
              "      <td>1537.312795</td>\n",
              "      <td>1523.978499</td>\n",
              "      <td>-2.573123</td>\n",
              "      <td>0.124672</td>\n",
              "      <td>0.010150</td>\n",
              "      <td>0.006589</td>\n",
              "      <td>190.652124</td>\n",
              "      <td>179.661233</td>\n",
              "      <td>1161.031965</td>\n",
              "    </tr>\n",
              "    <tr>\n",
              "      <th>std</th>\n",
              "      <td>0.0</td>\n",
              "      <td>1.090701</td>\n",
              "      <td>3.354678</td>\n",
              "      <td>8.782056</td>\n",
              "      <td>1.995257</td>\n",
              "      <td>811.875227</td>\n",
              "      <td>1595.026510</td>\n",
              "      <td>1601.988550</td>\n",
              "      <td>490.737845</td>\n",
              "      <td>500.306462</td>\n",
              "      <td>...</td>\n",
              "      <td>0.349930</td>\n",
              "      <td>502.512494</td>\n",
              "      <td>512.536041</td>\n",
              "      <td>39.232521</td>\n",
              "      <td>0.330361</td>\n",
              "      <td>0.100241</td>\n",
              "      <td>0.080908</td>\n",
              "      <td>78.386317</td>\n",
              "      <td>77.940399</td>\n",
              "      <td>643.683379</td>\n",
              "    </tr>\n",
              "    <tr>\n",
              "      <th>min</th>\n",
              "      <td>2016.0</td>\n",
              "      <td>1.000000</td>\n",
              "      <td>1.000000</td>\n",
              "      <td>1.000000</td>\n",
              "      <td>1.000000</td>\n",
              "      <td>7.000000</td>\n",
              "      <td>10397.000000</td>\n",
              "      <td>10397.000000</td>\n",
              "      <td>10.000000</td>\n",
              "      <td>1.000000</td>\n",
              "      <td>...</td>\n",
              "      <td>0.000000</td>\n",
              "      <td>2.000000</td>\n",
              "      <td>1.000000</td>\n",
              "      <td>-67.000000</td>\n",
              "      <td>0.000000</td>\n",
              "      <td>0.000000</td>\n",
              "      <td>0.000000</td>\n",
              "      <td>93.000000</td>\n",
              "      <td>75.000000</td>\n",
              "      <td>509.000000</td>\n",
              "    </tr>\n",
              "    <tr>\n",
              "      <th>25%</th>\n",
              "      <td>2016.0</td>\n",
              "      <td>2.000000</td>\n",
              "      <td>4.000000</td>\n",
              "      <td>8.000000</td>\n",
              "      <td>2.000000</td>\n",
              "      <td>624.000000</td>\n",
              "      <td>10397.000000</td>\n",
              "      <td>10397.000000</td>\n",
              "      <td>905.000000</td>\n",
              "      <td>905.000000</td>\n",
              "      <td>...</td>\n",
              "      <td>0.000000</td>\n",
              "      <td>1130.000000</td>\n",
              "      <td>1135.000000</td>\n",
              "      <td>-19.000000</td>\n",
              "      <td>0.000000</td>\n",
              "      <td>0.000000</td>\n",
              "      <td>0.000000</td>\n",
              "      <td>127.000000</td>\n",
              "      <td>117.000000</td>\n",
              "      <td>594.000000</td>\n",
              "    </tr>\n",
              "    <tr>\n",
              "      <th>50%</th>\n",
              "      <td>2016.0</td>\n",
              "      <td>3.000000</td>\n",
              "      <td>7.000000</td>\n",
              "      <td>16.000000</td>\n",
              "      <td>4.000000</td>\n",
              "      <td>1267.000000</td>\n",
              "      <td>12478.000000</td>\n",
              "      <td>12478.000000</td>\n",
              "      <td>1320.000000</td>\n",
              "      <td>1324.000000</td>\n",
              "      <td>...</td>\n",
              "      <td>0.000000</td>\n",
              "      <td>1559.000000</td>\n",
              "      <td>1547.000000</td>\n",
              "      <td>-10.000000</td>\n",
              "      <td>0.000000</td>\n",
              "      <td>0.000000</td>\n",
              "      <td>0.000000</td>\n",
              "      <td>159.000000</td>\n",
              "      <td>149.000000</td>\n",
              "      <td>907.000000</td>\n",
              "    </tr>\n",
              "    <tr>\n",
              "      <th>75%</th>\n",
              "      <td>2016.0</td>\n",
              "      <td>3.000000</td>\n",
              "      <td>9.000000</td>\n",
              "      <td>23.000000</td>\n",
              "      <td>6.000000</td>\n",
              "      <td>2032.000000</td>\n",
              "      <td>13487.000000</td>\n",
              "      <td>13487.000000</td>\n",
              "      <td>1735.000000</td>\n",
              "      <td>1739.000000</td>\n",
              "      <td>...</td>\n",
              "      <td>0.000000</td>\n",
              "      <td>1952.000000</td>\n",
              "      <td>1945.000000</td>\n",
              "      <td>1.000000</td>\n",
              "      <td>0.000000</td>\n",
              "      <td>0.000000</td>\n",
              "      <td>0.000000</td>\n",
              "      <td>255.000000</td>\n",
              "      <td>236.000000</td>\n",
              "      <td>1927.000000</td>\n",
              "    </tr>\n",
              "    <tr>\n",
              "      <th>max</th>\n",
              "      <td>2016.0</td>\n",
              "      <td>4.000000</td>\n",
              "      <td>12.000000</td>\n",
              "      <td>31.000000</td>\n",
              "      <td>7.000000</td>\n",
              "      <td>2853.000000</td>\n",
              "      <td>14747.000000</td>\n",
              "      <td>14747.000000</td>\n",
              "      <td>2359.000000</td>\n",
              "      <td>2400.000000</td>\n",
              "      <td>...</td>\n",
              "      <td>1.000000</td>\n",
              "      <td>2359.000000</td>\n",
              "      <td>2400.000000</td>\n",
              "      <td>615.000000</td>\n",
              "      <td>1.000000</td>\n",
              "      <td>1.000000</td>\n",
              "      <td>1.000000</td>\n",
              "      <td>397.000000</td>\n",
              "      <td>428.000000</td>\n",
              "      <td>2422.000000</td>\n",
              "    </tr>\n",
              "  </tbody>\n",
              "</table>\n",
              "<p>8 rows × 21 columns</p>\n",
              "</div>"
            ],
            "text/plain": [
              "          YEAR       QUARTER         MONTH  DAY_OF_MONTH   DAY_OF_WEEK  \\\n",
              "count  11231.0  11231.000000  11231.000000  11231.000000  11231.000000   \n",
              "mean    2016.0      2.544475      6.628973     15.790758      3.960199   \n",
              "std        0.0      1.090701      3.354678      8.782056      1.995257   \n",
              "min     2016.0      1.000000      1.000000      1.000000      1.000000   \n",
              "25%     2016.0      2.000000      4.000000      8.000000      2.000000   \n",
              "50%     2016.0      3.000000      7.000000     16.000000      4.000000   \n",
              "75%     2016.0      3.000000      9.000000     23.000000      6.000000   \n",
              "max     2016.0      4.000000     12.000000     31.000000      7.000000   \n",
              "\n",
              "             FL_NUM  ORIGIN_AIRPORT_ID  DEST_AIRPORT_ID  CRS_DEP_TIME  \\\n",
              "count  11231.000000       11231.000000     11231.000000  11231.000000   \n",
              "mean    1334.325617       12334.516695     12302.274508   1320.798326   \n",
              "std      811.875227        1595.026510      1601.988550    490.737845   \n",
              "min        7.000000       10397.000000     10397.000000     10.000000   \n",
              "25%      624.000000       10397.000000     10397.000000    905.000000   \n",
              "50%     1267.000000       12478.000000     12478.000000   1320.000000   \n",
              "75%     2032.000000       13487.000000     13487.000000   1735.000000   \n",
              "max     2853.000000       14747.000000     14747.000000   2359.000000   \n",
              "\n",
              "           DEP_TIME  ...     DEP_DEL15  CRS_ARR_TIME      ARR_TIME  \\\n",
              "count  11124.000000  ...  11124.000000  11231.000000  11116.000000   \n",
              "mean    1327.189410  ...      0.142844   1537.312795   1523.978499   \n",
              "std      500.306462  ...      0.349930    502.512494    512.536041   \n",
              "min        1.000000  ...      0.000000      2.000000      1.000000   \n",
              "25%      905.000000  ...      0.000000   1130.000000   1135.000000   \n",
              "50%     1324.000000  ...      0.000000   1559.000000   1547.000000   \n",
              "75%     1739.000000  ...      0.000000   1952.000000   1945.000000   \n",
              "max     2400.000000  ...      1.000000   2359.000000   2400.000000   \n",
              "\n",
              "          ARR_DELAY     ARR_DEL15     CANCELLED      DIVERTED  \\\n",
              "count  11043.000000  11045.000000  11231.000000  11231.000000   \n",
              "mean      -2.573123      0.124672      0.010150      0.006589   \n",
              "std       39.232521      0.330361      0.100241      0.080908   \n",
              "min      -67.000000      0.000000      0.000000      0.000000   \n",
              "25%      -19.000000      0.000000      0.000000      0.000000   \n",
              "50%      -10.000000      0.000000      0.000000      0.000000   \n",
              "75%        1.000000      0.000000      0.000000      0.000000   \n",
              "max      615.000000      1.000000      1.000000      1.000000   \n",
              "\n",
              "       CRS_ELAPSED_TIME  ACTUAL_ELAPSED_TIME      DISTANCE  \n",
              "count      11231.000000         11043.000000  11231.000000  \n",
              "mean         190.652124           179.661233   1161.031965  \n",
              "std           78.386317            77.940399    643.683379  \n",
              "min           93.000000            75.000000    509.000000  \n",
              "25%          127.000000           117.000000    594.000000  \n",
              "50%          159.000000           149.000000    907.000000  \n",
              "75%          255.000000           236.000000   1927.000000  \n",
              "max          397.000000           428.000000   2422.000000  \n",
              "\n",
              "[8 rows x 21 columns]"
            ]
          },
          "execution_count": 13,
          "metadata": {},
          "output_type": "execute_result"
        }
      ],
      "source": [
        "flights.describe()"
      ]
    },
    {
      "cell_type": "code",
      "execution_count": 14,
      "metadata": {
        "colab": {
          "base_uri": "https://localhost:8080/"
        },
        "id": "AhV3uLSmnx1h",
        "outputId": "a6632f6b-51d7-4b5d-fc3a-676830292b79"
      },
      "outputs": [
        {
          "data": {
            "text/plain": [
              "YEAR                     0\n",
              "QUARTER                  0\n",
              "MONTH                    0\n",
              "DAY_OF_MONTH             0\n",
              "DAY_OF_WEEK              0\n",
              "UNIQUE_CARRIER           0\n",
              "TAIL_NUM                 0\n",
              "FL_NUM                   0\n",
              "ORIGIN_AIRPORT_ID        0\n",
              "ORIGIN                   0\n",
              "DEST_AIRPORT_ID          0\n",
              "DEST                     0\n",
              "CRS_DEP_TIME             0\n",
              "DEP_TIME               107\n",
              "DEP_DELAY              107\n",
              "DEP_DEL15              107\n",
              "CRS_ARR_TIME             0\n",
              "ARR_TIME               115\n",
              "ARR_DELAY              188\n",
              "ARR_DEL15              186\n",
              "CANCELLED                0\n",
              "DIVERTED                 0\n",
              "CRS_ELAPSED_TIME         0\n",
              "ACTUAL_ELAPSED_TIME    188\n",
              "DISTANCE                 0\n",
              "dtype: int64"
            ]
          },
          "execution_count": 14,
          "metadata": {},
          "output_type": "execute_result"
        }
      ],
      "source": [
        "flights.isnull().sum()"
      ]
    },
    {
      "cell_type": "code",
      "execution_count": 15,
      "metadata": {
        "colab": {
          "base_uri": "https://localhost:8080/"
        },
        "id": "IdKYpuBLnx5N",
        "outputId": "4a1bec23-311e-4e55-aebc-0c1089f4263b"
      },
      "outputs": [
        {
          "data": {
            "text/plain": [
              "array(['SEA', 'MSP', 'DTW', 'ATL', 'JFK'], dtype=object)"
            ]
          },
          "execution_count": 15,
          "metadata": {},
          "output_type": "execute_result"
        }
      ],
      "source": [
        "flights['DEST'].unique()"
      ]
    },
    {
      "cell_type": "markdown",
      "metadata": {
        "id": "j2sZg9DC9RKC"
      },
      "source": [
        "#DATA VISUALISATION"
      ]
    },
    {
      "cell_type": "code",
      "execution_count": 16,
      "metadata": {
        "colab": {
          "base_uri": "https://localhost:8080/",
          "height": 406
        },
        "id": "ZpJg-6QCnx8Y",
        "outputId": "9d3e5d05-810b-4ba3-d277-e8328ce11584"
      },
      "outputs": [
        {
          "data": {
            "image/png": "[encoded data removed]",
            "text/plain": [
              "<Figure size 640x480 with 1 Axes>"
            ]
          },
          "metadata": {},
          "output_type": "display_data"
        }
      ],
      "source": [
        "import matplotlib.pyplot as plt\n",
        "flights['YEAR'].value_counts().plot(kind='pie',autopct='%.0f')\n",
        "plt.show()"
      ]
    },
    {
      "cell_type": "code",
      "execution_count": 17,
      "metadata": {
        "colab": {
          "base_uri": "https://localhost:8080/",
          "height": 467
        },
        "id": "19GxvUMmnx_i",
        "outputId": "ad38fd51-ecb7-4830-f186-286488d4fb2e"
      },
      "outputs": [
        {
          "data": {
            "text/plain": [
              "<Axes: xlabel='ARR_DELAY', ylabel='ARR_DEL15'>"
            ]
          },
          "execution_count": 17,
          "metadata": {},
          "output_type": "execute_result"
        },
        {
          "data": {
            "image/png": "[encoded data removed]",
            "text/plain": [
              "<Figure size 640x480 with 1 Axes>"
            ]
          },
          "metadata": {},
          "output_type": "display_data"
        }
      ],
      "source": [
        "sns.scatterplot(x='ARR_DELAY',y='ARR_DEL15',data=flights)"
      ]
    },
    {
      "cell_type": "code",
      "execution_count": 18,
      "metadata": {
        "colab": {
          "base_uri": "https://localhost:8080/",
          "height": 524
        },
        "id": "3k3kqdConyC1",
        "outputId": "d1706563-61c8-4e50-951c-f3090f70c167"
      },
      "outputs": [
        {
          "data": {
            "text/plain": [
              "<seaborn.axisgrid.FacetGrid at 0x28680fe9310>"
            ]
          },
          "execution_count": 18,
          "metadata": {},
          "output_type": "execute_result"
        },
        {
          "data": {
            "image/png": "[encoded data removed]",
            "text/plain": [
              "<Figure size 511.111x500 with 1 Axes>"
            ]
          },
          "metadata": {},
          "output_type": "display_data"
        }
      ],
      "source": [
        "sns.catplot(x=\"ARR_DEL15\",y=\"ARR_DELAY\",kind='bar',data=flights)"
      ]
    },
    {
      "cell_type": "markdown",
      "metadata": {
        "id": "YBs0Sdh_9dAD"
      },
      "source": [
        "#HEAT MAP"
      ]
    },
    {
      "cell_type": "code",
      "execution_count": 19,
      "metadata": {
        "colab": {
          "base_uri": "https://localhost:8080/",
          "height": 604
        },
        "id": "BI6whcs0nyPB",
        "outputId": "4e14a615-dbe2-421f-dc0b-97f4550dfa12"
      },
      "outputs": [
        {
          "data": {
            "text/plain": [
              "<Axes: >"
            ]
          },
          "execution_count": 19,
          "metadata": {},
          "output_type": "execute_result"
        },
        {
          "data": {
            "image/png": "[encoded data removed]",
            "text/plain": [
              "<Figure size 640x480 with 2 Axes>"
            ]
          },
          "metadata": {},
          "output_type": "display_data"
        }
      ],
      "source": [
        "import pandas as pd\n",
        "import seaborn as sns\n",
        "import numpy as np\n",
        "non_numerical_cols=flights.select_dtypes(exclude=[np.number]).columns\n",
        "flights_numeric=flights.drop(non_numerical_cols,axis=1)\n",
        "sns.heatmap(flights_numeric.corr())"
      ]
    },
    {
      "cell_type": "code",
      "execution_count": 20,
      "metadata": {
        "colab": {
          "base_uri": "https://localhost:8080/"
        },
        "id": "br31makLqgtR",
        "outputId": "f10061c2-8127-45f4-dd84-b8836954b479"
      },
      "outputs": [
        {
          "data": {
            "text/plain": [
              "YEAR                     0\n",
              "QUARTER                  0\n",
              "MONTH                    0\n",
              "DAY_OF_MONTH             0\n",
              "DAY_OF_WEEK              0\n",
              "UNIQUE_CARRIER           0\n",
              "TAIL_NUM                 0\n",
              "FL_NUM                   0\n",
              "ORIGIN_AIRPORT_ID        0\n",
              "ORIGIN                   0\n",
              "DEST_AIRPORT_ID          0\n",
              "DEST                     0\n",
              "CRS_DEP_TIME             0\n",
              "DEP_TIME               107\n",
              "DEP_DELAY              107\n",
              "DEP_DEL15              107\n",
              "CRS_ARR_TIME             0\n",
              "ARR_TIME               115\n",
              "ARR_DELAY              188\n",
              "ARR_DEL15              186\n",
              "CANCELLED                0\n",
              "DIVERTED                 0\n",
              "CRS_ELAPSED_TIME         0\n",
              "ACTUAL_ELAPSED_TIME    188\n",
              "DISTANCE                 0\n",
              "dtype: int64"
            ]
          },
          "execution_count": 20,
          "metadata": {},
          "output_type": "execute_result"
        }
      ],
      "source": [
        "import pandas as pd\n",
        "#dataset=pd.read_csv(\"flightdata.csv\")\n",
        "if \"Unnamed: 25\" in flights.columns: # Check if the column exists before dropping\n",
        "    flights=flights.drop(\"Unnamed: 25\",axis=1)\n",
        "flights.isnull().sum()"
      ]
    },
    {
      "cell_type": "code",
      "execution_count": 21,
      "metadata": {
        "colab": {
          "base_uri": "https://localhost:8080/"
        },
        "id": "0N0JBRK6qp4L",
        "outputId": "e0614dec-390e-4858-ca59-2e504530e29a"
      },
      "outputs": [
        {
          "data": {
            "text/plain": [
              "(11231, 25)"
            ]
          },
          "execution_count": 21,
          "metadata": {},
          "output_type": "execute_result"
        }
      ],
      "source": [
        "flights.shape"
      ]
    },
    {
      "cell_type": "code",
      "execution_count": 22,
      "metadata": {
        "colab": {
          "base_uri": "https://localhost:8080/"
        },
        "id": "0ZtGbrijqp7i",
        "outputId": "a125980d-ea85-4a66-fd1b-f250b82cc6b3"
      },
      "outputs": [
        {
          "name": "stdout",
          "output_type": "stream",
          "text": [
            "Index(['YEAR', 'QUARTER', 'MONTH', 'DAY_OF_MONTH', 'DAY_OF_WEEK',\n",
            "       'UNIQUE_CARRIER', 'TAIL_NUM', 'FL_NUM', 'ORIGIN_AIRPORT_ID', 'ORIGIN',\n",
            "       'DEST_AIRPORT_ID', 'DEST', 'CRS_DEP_TIME', 'DEP_TIME', 'DEP_DELAY',\n",
            "       'DEP_DEL15', 'CRS_ARR_TIME', 'ARR_TIME', 'ARR_DELAY', 'ARR_DEL15',\n",
            "       'CANCELLED', 'DIVERTED', 'CRS_ELAPSED_TIME', 'ACTUAL_ELAPSED_TIME',\n",
            "       'DISTANCE'],\n",
            "      dtype='object')\n"
          ]
        },
        {
          "data": {
            "text/plain": [
              "FL_NUM            0\n",
              "MONTH             0\n",
              "DAY_OF_MONTH      0\n",
              "DAY_OF_WEEK       0\n",
              "ORIGIN            0\n",
              "DEST              0\n",
              "CRS_ARR_TIME      0\n",
              "DEP_DEL15       107\n",
              "ARR_DEL15       186\n",
              "dtype: int64"
            ]
          },
          "execution_count": 22,
          "metadata": {},
          "output_type": "execute_result"
        }
      ],
      "source": [
        "print(flights.columns)\n",
        "flights=flights[[\"FL_NUM\",\"MONTH\",\"DAY_OF_MONTH\",\"DAY_OF_WEEK\",\"ORIGIN\",\"DEST\",\"CRS_ARR_TIME\",\"DEP_DEL15\",\"ARR_DEL15\"]]\n",
        "flights.isnull().sum()"
      ]
    },
    {
      "cell_type": "markdown",
      "metadata": {
        "id": "3VxsHdfRSfPB"
      },
      "source": [
        "#Handling Missing Values"
      ]
    },
    {
      "cell_type": "code",
      "execution_count": 23,
      "metadata": {
        "colab": {
          "base_uri": "https://localhost:8080/",
          "height": 300
        },
        "id": "LltqsrCvqp-g",
        "outputId": "ac19d1d7-10bd-464b-acb2-fb1c158db28a"
      },
      "outputs": [
        {
          "data": {
            "text/html": [
              "<div>\n",
              "<style scoped>\n",
              "    .dataframe tbody tr th:only-of-type {\n",
              "        vertical-align: middle;\n",
              "    }\n",
              "\n",
              "    .dataframe tbody tr th {\n",
              "        vertical-align: top;\n",
              "    }\n",
              "\n",
              "    .dataframe thead th {\n",
              "        text-align: right;\n",
              "    }\n",
              "</style>\n",
              "<table border=\"1\" class=\"dataframe\">\n",
              "  <thead>\n",
              "    <tr style=\"text-align: right;\">\n",
              "      <th></th>\n",
              "      <th>FL_NUM</th>\n",
              "      <th>MONTH</th>\n",
              "      <th>DAY_OF_MONTH</th>\n",
              "      <th>DAY_OF_WEEK</th>\n",
              "      <th>ORIGIN</th>\n",
              "      <th>DEST</th>\n",
              "      <th>CRS_ARR_TIME</th>\n",
              "      <th>DEP_DEL15</th>\n",
              "      <th>ARR_DEL15</th>\n",
              "    </tr>\n",
              "  </thead>\n",
              "  <tbody>\n",
              "    <tr>\n",
              "      <th>177</th>\n",
              "      <td>2834</td>\n",
              "      <td>1</td>\n",
              "      <td>9</td>\n",
              "      <td>6</td>\n",
              "      <td>MSP</td>\n",
              "      <td>SEA</td>\n",
              "      <td>852</td>\n",
              "      <td>0.0</td>\n",
              "      <td>1.0</td>\n",
              "    </tr>\n",
              "    <tr>\n",
              "      <th>178</th>\n",
              "      <td>2839</td>\n",
              "      <td>1</td>\n",
              "      <td>9</td>\n",
              "      <td>6</td>\n",
              "      <td>DTW</td>\n",
              "      <td>JFK</td>\n",
              "      <td>1724</td>\n",
              "      <td>0.0</td>\n",
              "      <td>0.0</td>\n",
              "    </tr>\n",
              "    <tr>\n",
              "      <th>179</th>\n",
              "      <td>86</td>\n",
              "      <td>1</td>\n",
              "      <td>10</td>\n",
              "      <td>7</td>\n",
              "      <td>MSP</td>\n",
              "      <td>DTW</td>\n",
              "      <td>1632</td>\n",
              "      <td>NaN</td>\n",
              "      <td>1.0</td>\n",
              "    </tr>\n",
              "    <tr>\n",
              "      <th>180</th>\n",
              "      <td>87</td>\n",
              "      <td>1</td>\n",
              "      <td>10</td>\n",
              "      <td>7</td>\n",
              "      <td>DTW</td>\n",
              "      <td>MSP</td>\n",
              "      <td>1649</td>\n",
              "      <td>1.0</td>\n",
              "      <td>0.0</td>\n",
              "    </tr>\n",
              "    <tr>\n",
              "      <th>181</th>\n",
              "      <td>423</td>\n",
              "      <td>1</td>\n",
              "      <td>10</td>\n",
              "      <td>7</td>\n",
              "      <td>JFK</td>\n",
              "      <td>ATL</td>\n",
              "      <td>1600</td>\n",
              "      <td>0.0</td>\n",
              "      <td>0.0</td>\n",
              "    </tr>\n",
              "    <tr>\n",
              "      <th>182</th>\n",
              "      <td>440</td>\n",
              "      <td>1</td>\n",
              "      <td>10</td>\n",
              "      <td>7</td>\n",
              "      <td>JFK</td>\n",
              "      <td>ATL</td>\n",
              "      <td>849</td>\n",
              "      <td>0.0</td>\n",
              "      <td>0.0</td>\n",
              "    </tr>\n",
              "    <tr>\n",
              "      <th>183</th>\n",
              "      <td>485</td>\n",
              "      <td>1</td>\n",
              "      <td>10</td>\n",
              "      <td>7</td>\n",
              "      <td>JFK</td>\n",
              "      <td>SEA</td>\n",
              "      <td>1945</td>\n",
              "      <td>1.0</td>\n",
              "      <td>0.0</td>\n",
              "    </tr>\n",
              "    <tr>\n",
              "      <th>184</th>\n",
              "      <td>557</td>\n",
              "      <td>1</td>\n",
              "      <td>10</td>\n",
              "      <td>7</td>\n",
              "      <td>MSP</td>\n",
              "      <td>DTW</td>\n",
              "      <td>912</td>\n",
              "      <td>0.0</td>\n",
              "      <td>1.0</td>\n",
              "    </tr>\n",
              "  </tbody>\n",
              "</table>\n",
              "</div>"
            ],
            "text/plain": [
              "     FL_NUM  MONTH  DAY_OF_MONTH  DAY_OF_WEEK ORIGIN DEST  CRS_ARR_TIME  \\\n",
              "177    2834      1             9            6    MSP  SEA           852   \n",
              "178    2839      1             9            6    DTW  JFK          1724   \n",
              "179      86      1            10            7    MSP  DTW          1632   \n",
              "180      87      1            10            7    DTW  MSP          1649   \n",
              "181     423      1            10            7    JFK  ATL          1600   \n",
              "182     440      1            10            7    JFK  ATL           849   \n",
              "183     485      1            10            7    JFK  SEA          1945   \n",
              "184     557      1            10            7    MSP  DTW           912   \n",
              "\n",
              "     DEP_DEL15  ARR_DEL15  \n",
              "177        0.0        1.0  \n",
              "178        0.0        0.0  \n",
              "179        NaN        1.0  \n",
              "180        1.0        0.0  \n",
              "181        0.0        0.0  \n",
              "182        0.0        0.0  \n",
              "183        1.0        0.0  \n",
              "184        0.0        1.0  "
            ]
          },
          "execution_count": 23,
          "metadata": {},
          "output_type": "execute_result"
        }
      ],
      "source": [
        "flights=flights.fillna({'ARR_DEL15':1})\n",
        "flights=flights.fillna({'dep_del15':0})\n",
        "flights.iloc[177:185]"
      ]
    },
    {
      "cell_type": "code",
      "execution_count": 24,
      "metadata": {
        "colab": {
          "base_uri": "https://localhost:8080/",
          "height": 206
        },
        "id": "KafJZfAvqqBa",
        "outputId": "50c2fff5-700c-4bb7-c442-c1d5b9136333"
      },
      "outputs": [
        {
          "data": {
            "text/html": [
              "<div>\n",
              "<style scoped>\n",
              "    .dataframe tbody tr th:only-of-type {\n",
              "        vertical-align: middle;\n",
              "    }\n",
              "\n",
              "    .dataframe tbody tr th {\n",
              "        vertical-align: top;\n",
              "    }\n",
              "\n",
              "    .dataframe thead th {\n",
              "        text-align: right;\n",
              "    }\n",
              "</style>\n",
              "<table border=\"1\" class=\"dataframe\">\n",
              "  <thead>\n",
              "    <tr style=\"text-align: right;\">\n",
              "      <th></th>\n",
              "      <th>FL_NUM</th>\n",
              "      <th>MONTH</th>\n",
              "      <th>DAY_OF_MONTH</th>\n",
              "      <th>DAY_OF_WEEK</th>\n",
              "      <th>ORIGIN</th>\n",
              "      <th>DEST</th>\n",
              "      <th>CRS_ARR_TIME</th>\n",
              "      <th>DEP_DEL15</th>\n",
              "      <th>ARR_DEL15</th>\n",
              "    </tr>\n",
              "  </thead>\n",
              "  <tbody>\n",
              "    <tr>\n",
              "      <th>0</th>\n",
              "      <td>1399</td>\n",
              "      <td>1</td>\n",
              "      <td>1</td>\n",
              "      <td>5</td>\n",
              "      <td>ATL</td>\n",
              "      <td>SEA</td>\n",
              "      <td>21</td>\n",
              "      <td>0.0</td>\n",
              "      <td>0.0</td>\n",
              "    </tr>\n",
              "    <tr>\n",
              "      <th>1</th>\n",
              "      <td>1476</td>\n",
              "      <td>1</td>\n",
              "      <td>1</td>\n",
              "      <td>5</td>\n",
              "      <td>DTW</td>\n",
              "      <td>MSP</td>\n",
              "      <td>14</td>\n",
              "      <td>0.0</td>\n",
              "      <td>0.0</td>\n",
              "    </tr>\n",
              "    <tr>\n",
              "      <th>2</th>\n",
              "      <td>1597</td>\n",
              "      <td>1</td>\n",
              "      <td>1</td>\n",
              "      <td>5</td>\n",
              "      <td>ATL</td>\n",
              "      <td>SEA</td>\n",
              "      <td>12</td>\n",
              "      <td>0.0</td>\n",
              "      <td>0.0</td>\n",
              "    </tr>\n",
              "    <tr>\n",
              "      <th>3</th>\n",
              "      <td>1768</td>\n",
              "      <td>1</td>\n",
              "      <td>1</td>\n",
              "      <td>5</td>\n",
              "      <td>SEA</td>\n",
              "      <td>MSP</td>\n",
              "      <td>13</td>\n",
              "      <td>0.0</td>\n",
              "      <td>0.0</td>\n",
              "    </tr>\n",
              "    <tr>\n",
              "      <th>4</th>\n",
              "      <td>1823</td>\n",
              "      <td>1</td>\n",
              "      <td>1</td>\n",
              "      <td>5</td>\n",
              "      <td>SEA</td>\n",
              "      <td>DTW</td>\n",
              "      <td>6</td>\n",
              "      <td>0.0</td>\n",
              "      <td>0.0</td>\n",
              "    </tr>\n",
              "  </tbody>\n",
              "</table>\n",
              "</div>"
            ],
            "text/plain": [
              "   FL_NUM  MONTH  DAY_OF_MONTH  DAY_OF_WEEK ORIGIN DEST  CRS_ARR_TIME  \\\n",
              "0    1399      1             1            5    ATL  SEA            21   \n",
              "1    1476      1             1            5    DTW  MSP            14   \n",
              "2    1597      1             1            5    ATL  SEA            12   \n",
              "3    1768      1             1            5    SEA  MSP            13   \n",
              "4    1823      1             1            5    SEA  DTW             6   \n",
              "\n",
              "   DEP_DEL15  ARR_DEL15  \n",
              "0        0.0        0.0  \n",
              "1        0.0        0.0  \n",
              "2        0.0        0.0  \n",
              "3        0.0        0.0  \n",
              "4        0.0        0.0  "
            ]
          },
          "execution_count": 24,
          "metadata": {},
          "output_type": "execute_result"
        }
      ],
      "source": [
        "import math\n",
        "for index,row in flights.iterrows():\n",
        "  flights.loc[index,'CRS_ARR_TIME']=math.floor(row['CRS_ARR_TIME']/100)\n",
        "flights.head()"
      ]
    },
    {
      "cell_type": "code",
      "execution_count": 25,
      "metadata": {
        "colab": {
          "base_uri": "https://localhost:8080/",
          "height": 206
        },
        "id": "YR-Rk0LdqqEg",
        "outputId": "128b780d-3b74-49ab-c7e6-08e2dd4e5f09"
      },
      "outputs": [
        {
          "data": {
            "text/html": [
              "<div>\n",
              "<style scoped>\n",
              "    .dataframe tbody tr th:only-of-type {\n",
              "        vertical-align: middle;\n",
              "    }\n",
              "\n",
              "    .dataframe tbody tr th {\n",
              "        vertical-align: top;\n",
              "    }\n",
              "\n",
              "    .dataframe thead th {\n",
              "        text-align: right;\n",
              "    }\n",
              "</style>\n",
              "<table border=\"1\" class=\"dataframe\">\n",
              "  <thead>\n",
              "    <tr style=\"text-align: right;\">\n",
              "      <th></th>\n",
              "      <th>FL_NUM</th>\n",
              "      <th>MONTH</th>\n",
              "      <th>DAY_OF_MONTH</th>\n",
              "      <th>DAY_OF_WEEK</th>\n",
              "      <th>ORIGIN</th>\n",
              "      <th>DEST</th>\n",
              "      <th>CRS_ARR_TIME</th>\n",
              "      <th>DEP_DEL15</th>\n",
              "      <th>ARR_DEL15</th>\n",
              "    </tr>\n",
              "  </thead>\n",
              "  <tbody>\n",
              "    <tr>\n",
              "      <th>0</th>\n",
              "      <td>1399</td>\n",
              "      <td>1</td>\n",
              "      <td>1</td>\n",
              "      <td>5</td>\n",
              "      <td>ATL</td>\n",
              "      <td>SEA</td>\n",
              "      <td>21</td>\n",
              "      <td>0.0</td>\n",
              "      <td>0.0</td>\n",
              "    </tr>\n",
              "    <tr>\n",
              "      <th>1</th>\n",
              "      <td>1476</td>\n",
              "      <td>1</td>\n",
              "      <td>1</td>\n",
              "      <td>5</td>\n",
              "      <td>DTW</td>\n",
              "      <td>MSP</td>\n",
              "      <td>14</td>\n",
              "      <td>0.0</td>\n",
              "      <td>0.0</td>\n",
              "    </tr>\n",
              "    <tr>\n",
              "      <th>2</th>\n",
              "      <td>1597</td>\n",
              "      <td>1</td>\n",
              "      <td>1</td>\n",
              "      <td>5</td>\n",
              "      <td>ATL</td>\n",
              "      <td>SEA</td>\n",
              "      <td>12</td>\n",
              "      <td>0.0</td>\n",
              "      <td>0.0</td>\n",
              "    </tr>\n",
              "    <tr>\n",
              "      <th>3</th>\n",
              "      <td>1768</td>\n",
              "      <td>1</td>\n",
              "      <td>1</td>\n",
              "      <td>5</td>\n",
              "      <td>SEA</td>\n",
              "      <td>MSP</td>\n",
              "      <td>13</td>\n",
              "      <td>0.0</td>\n",
              "      <td>0.0</td>\n",
              "    </tr>\n",
              "    <tr>\n",
              "      <th>4</th>\n",
              "      <td>1823</td>\n",
              "      <td>1</td>\n",
              "      <td>1</td>\n",
              "      <td>5</td>\n",
              "      <td>SEA</td>\n",
              "      <td>DTW</td>\n",
              "      <td>6</td>\n",
              "      <td>0.0</td>\n",
              "      <td>0.0</td>\n",
              "    </tr>\n",
              "  </tbody>\n",
              "</table>\n",
              "</div>"
            ],
            "text/plain": [
              "   FL_NUM  MONTH  DAY_OF_MONTH  DAY_OF_WEEK ORIGIN DEST  CRS_ARR_TIME  \\\n",
              "0    1399      1             1            5    ATL  SEA            21   \n",
              "1    1476      1             1            5    DTW  MSP            14   \n",
              "2    1597      1             1            5    ATL  SEA            12   \n",
              "3    1768      1             1            5    SEA  MSP            13   \n",
              "4    1823      1             1            5    SEA  DTW             6   \n",
              "\n",
              "   DEP_DEL15  ARR_DEL15  \n",
              "0        0.0        0.0  \n",
              "1        0.0        0.0  \n",
              "2        0.0        0.0  \n",
              "3        0.0        0.0  \n",
              "4        0.0        0.0  "
            ]
          },
          "execution_count": 25,
          "metadata": {},
          "output_type": "execute_result"
        }
      ],
      "source": [
        "flights.head(5)"
      ]
    },
    {
      "cell_type": "markdown",
      "metadata": {
        "id": "cH2NV4F_SqLT"
      },
      "source": [
        "#Label Encoding"
      ]
    },
    {
      "cell_type": "code",
      "execution_count": 26,
      "metadata": {
        "colab": {
          "base_uri": "https://localhost:8080/",
          "height": 206
        },
        "id": "_AKXggXBqqHn",
        "outputId": "b170c0a4-2a1a-41f1-d76d-e3024217eebd"
      },
      "outputs": [
        {
          "data": {
            "text/html": [
              "<div>\n",
              "<style scoped>\n",
              "    .dataframe tbody tr th:only-of-type {\n",
              "        vertical-align: middle;\n",
              "    }\n",
              "\n",
              "    .dataframe tbody tr th {\n",
              "        vertical-align: top;\n",
              "    }\n",
              "\n",
              "    .dataframe thead th {\n",
              "        text-align: right;\n",
              "    }\n",
              "</style>\n",
              "<table border=\"1\" class=\"dataframe\">\n",
              "  <thead>\n",
              "    <tr style=\"text-align: right;\">\n",
              "      <th></th>\n",
              "      <th>FL_NUM</th>\n",
              "      <th>MONTH</th>\n",
              "      <th>DAY_OF_MONTH</th>\n",
              "      <th>DAY_OF_WEEK</th>\n",
              "      <th>ORIGIN</th>\n",
              "      <th>DEST</th>\n",
              "      <th>CRS_ARR_TIME</th>\n",
              "      <th>DEP_DEL15</th>\n",
              "      <th>ARR_DEL15</th>\n",
              "    </tr>\n",
              "  </thead>\n",
              "  <tbody>\n",
              "    <tr>\n",
              "      <th>0</th>\n",
              "      <td>1399</td>\n",
              "      <td>1</td>\n",
              "      <td>1</td>\n",
              "      <td>5</td>\n",
              "      <td>0</td>\n",
              "      <td>4</td>\n",
              "      <td>21</td>\n",
              "      <td>0.0</td>\n",
              "      <td>0.0</td>\n",
              "    </tr>\n",
              "    <tr>\n",
              "      <th>1</th>\n",
              "      <td>1476</td>\n",
              "      <td>1</td>\n",
              "      <td>1</td>\n",
              "      <td>5</td>\n",
              "      <td>1</td>\n",
              "      <td>3</td>\n",
              "      <td>14</td>\n",
              "      <td>0.0</td>\n",
              "      <td>0.0</td>\n",
              "    </tr>\n",
              "    <tr>\n",
              "      <th>2</th>\n",
              "      <td>1597</td>\n",
              "      <td>1</td>\n",
              "      <td>1</td>\n",
              "      <td>5</td>\n",
              "      <td>0</td>\n",
              "      <td>4</td>\n",
              "      <td>12</td>\n",
              "      <td>0.0</td>\n",
              "      <td>0.0</td>\n",
              "    </tr>\n",
              "    <tr>\n",
              "      <th>3</th>\n",
              "      <td>1768</td>\n",
              "      <td>1</td>\n",
              "      <td>1</td>\n",
              "      <td>5</td>\n",
              "      <td>4</td>\n",
              "      <td>3</td>\n",
              "      <td>13</td>\n",
              "      <td>0.0</td>\n",
              "      <td>0.0</td>\n",
              "    </tr>\n",
              "    <tr>\n",
              "      <th>4</th>\n",
              "      <td>1823</td>\n",
              "      <td>1</td>\n",
              "      <td>1</td>\n",
              "      <td>5</td>\n",
              "      <td>4</td>\n",
              "      <td>1</td>\n",
              "      <td>6</td>\n",
              "      <td>0.0</td>\n",
              "      <td>0.0</td>\n",
              "    </tr>\n",
              "  </tbody>\n",
              "</table>\n",
              "</div>"
            ],
            "text/plain": [
              "   FL_NUM  MONTH  DAY_OF_MONTH  DAY_OF_WEEK  ORIGIN  DEST  CRS_ARR_TIME  \\\n",
              "0    1399      1             1            5       0     4            21   \n",
              "1    1476      1             1            5       1     3            14   \n",
              "2    1597      1             1            5       0     4            12   \n",
              "3    1768      1             1            5       4     3            13   \n",
              "4    1823      1             1            5       4     1             6   \n",
              "\n",
              "   DEP_DEL15  ARR_DEL15  \n",
              "0        0.0        0.0  \n",
              "1        0.0        0.0  \n",
              "2        0.0        0.0  \n",
              "3        0.0        0.0  \n",
              "4        0.0        0.0  "
            ]
          },
          "execution_count": 26,
          "metadata": {},
          "output_type": "execute_result"
        }
      ],
      "source": [
        "from sklearn.preprocessing import LabelEncoder\n",
        "le=LabelEncoder()\n",
        "flights['ORIGIN']=le.fit_transform(flights['ORIGIN'])\n",
        "flights['DEST']=le.fit_transform(flights['DEST'])\n",
        "flights.head()"
      ]
    },
    {
      "cell_type": "markdown",
      "metadata": {
        "id": "uukBrSaiSwwr"
      },
      "source": [
        "#OneHotEncoder"
      ]
    },
    {
      "cell_type": "code",
      "execution_count": 27,
      "metadata": {
        "colab": {
          "base_uri": "https://localhost:8080/"
        },
        "id": "qOLtqsrnqqLF",
        "outputId": "482fc10b-770d-4d39-c3fb-9e298a0c4fdb"
      },
      "outputs": [
        {
          "data": {
            "text/plain": [
              "array([[1., 0., 0., 0., 0.],\n",
              "       [0., 1., 0., 0., 0.],\n",
              "       [1., 0., 0., 0., 0.],\n",
              "       ...,\n",
              "       [0., 1., 0., 0., 0.],\n",
              "       [1., 0., 0., 0., 0.],\n",
              "       [1., 0., 0., 0., 0.]])"
            ]
          },
          "execution_count": 27,
          "metadata": {},
          "output_type": "execute_result"
        }
      ],
      "source": [
        "from sklearn.preprocessing import OneHotEncoder\n",
        "oh=OneHotEncoder()\n",
        "z=oh.fit_transform(flights.iloc[:,4:5]).toarray()\n",
        "t=oh.fit_transform(flights.iloc[:,5:6]).toarray()\n",
        "z"
      ]
    },
    {
      "cell_type": "code",
      "execution_count": 28,
      "metadata": {
        "colab": {
          "base_uri": "https://localhost:8080/"
        },
        "id": "zHCoDiC0qqOh",
        "outputId": "e91358be-c2c7-42d0-c63e-928384a9fce3"
      },
      "outputs": [
        {
          "data": {
            "text/plain": [
              "array([[0., 0., 0., 0., 1.],\n",
              "       [0., 0., 0., 1., 0.],\n",
              "       [0., 0., 0., 0., 1.],\n",
              "       ...,\n",
              "       [0., 0., 0., 0., 1.],\n",
              "       [0., 0., 0., 0., 1.],\n",
              "       [0., 1., 0., 0., 0.]])"
            ]
          },
          "execution_count": 28,
          "metadata": {},
          "output_type": "execute_result"
        }
      ],
      "source": [
        "t"
      ]
    },
    {
      "cell_type": "code",
      "execution_count": 29,
      "metadata": {
        "colab": {
          "base_uri": "https://localhost:8080/"
        },
        "id": "HHgeGucA-dY-",
        "outputId": "effd7fdd-b174-47b1-c4a1-6cf9e854b162"
      },
      "outputs": [
        {
          "name": "stdout",
          "output_type": "stream",
          "text": [
            "FL_NUM            int64\n",
            "MONTH             int64\n",
            "DAY_OF_MONTH      int64\n",
            "DAY_OF_WEEK       int64\n",
            "ORIGIN            int64\n",
            "DEST              int64\n",
            "CRS_ARR_TIME      int64\n",
            "DEP_DEL15       float64\n",
            "ARR_DEL15       float64\n",
            "dtype: object\n"
          ]
        }
      ],
      "source": [
        "print(flights.dtypes)"
      ]
    },
    {
      "cell_type": "code",
      "execution_count": 30,
      "metadata": {
        "id": "RpAUx0PCr-Fu"
      },
      "outputs": [],
      "source": [
        "flights = flights.dropna()"
      ]
    },
    {
      "cell_type": "code",
      "execution_count": 31,
      "metadata": {
        "id": "TgBE1rrLr-Ir"
      },
      "outputs": [],
      "source": [
        "\"\"\"\n",
        "import pandas as pd\n",
        "flights=pd.read_csv('flightdata.csv')\n",
        "flights=pd.get_dummies(flights,columns=['ORIGIN','DEST'])\n",
        "flights.head()\n",
        "\"\"\"\n",
        "x=flights.iloc[:,0:8].values\n",
        "y=flights.iloc[:,8:9].values"
      ]
    },
    {
      "cell_type": "code",
      "execution_count": 32,
      "metadata": {
        "colab": {
          "base_uri": "https://localhost:8080/"
        },
        "id": "_9qz7BfFr-LQ",
        "outputId": "604b45d2-a14e-43e4-80cc-5af51bfce312"
      },
      "outputs": [
        {
          "data": {
            "text/plain": [
              "array([[1.399e+03, 1.000e+00, 1.000e+00, ..., 4.000e+00, 2.100e+01,\n",
              "        0.000e+00],\n",
              "       [1.476e+03, 1.000e+00, 1.000e+00, ..., 3.000e+00, 1.400e+01,\n",
              "        0.000e+00],\n",
              "       [1.597e+03, 1.000e+00, 1.000e+00, ..., 4.000e+00, 1.200e+01,\n",
              "        0.000e+00],\n",
              "       ...,\n",
              "       [1.823e+03, 1.200e+01, 3.000e+01, ..., 4.000e+00, 2.200e+01,\n",
              "        0.000e+00],\n",
              "       [1.901e+03, 1.200e+01, 3.000e+01, ..., 4.000e+00, 1.800e+01,\n",
              "        0.000e+00],\n",
              "       [2.005e+03, 1.200e+01, 3.000e+01, ..., 1.000e+00, 9.000e+00,\n",
              "        0.000e+00]])"
            ]
          },
          "execution_count": 32,
          "metadata": {},
          "output_type": "execute_result"
        }
      ],
      "source": [
        "x"
      ]
    },
    {
      "cell_type": "code",
      "execution_count": 33,
      "metadata": {
        "colab": {
          "base_uri": "https://localhost:8080/"
        },
        "id": "cF895ahZr-Nz",
        "outputId": "5823aca5-cb98-44c5-9503-d16201098a4c"
      },
      "outputs": [
        {
          "data": {
            "text/plain": [
              "array([[0.],\n",
              "       [0.],\n",
              "       [0.],\n",
              "       ...,\n",
              "       [0.],\n",
              "       [0.],\n",
              "       [0.]])"
            ]
          },
          "execution_count": 33,
          "metadata": {},
          "output_type": "execute_result"
        }
      ],
      "source": [
        "y"
      ]
    },
    {
      "cell_type": "markdown",
      "metadata": {
        "id": "GMBIj2jrS34s"
      },
      "source": [
        "#Splitting The Dataset"
      ]
    },
    {
      "cell_type": "code",
      "execution_count": 34,
      "metadata": {
        "id": "rpZb4V1ir-Qi"
      },
      "outputs": [],
      "source": [
        "from sklearn.model_selection import train_test_split\n",
        "x_train,x_test,y_train,y_test=train_test_split(x,y,test_size=0.2,random_state=0)"
      ]
    },
    {
      "cell_type": "code",
      "execution_count": 35,
      "metadata": {
        "colab": {
          "base_uri": "https://localhost:8080/"
        },
        "id": "u-7il70Yr-TE",
        "outputId": "cd7375a4-14b1-4e58-8b4b-f3c0bc3ae74e"
      },
      "outputs": [
        {
          "data": {
            "text/plain": [
              "((2225, 8), (2225, 1))"
            ]
          },
          "execution_count": 35,
          "metadata": {},
          "output_type": "execute_result"
        }
      ],
      "source": [
        "x_test.shape,y_test.shape"
      ]
    },
    {
      "cell_type": "code",
      "execution_count": 36,
      "metadata": {
        "colab": {
          "base_uri": "https://localhost:8080/"
        },
        "id": "Hl469Rubr-VP",
        "outputId": "540dab64-9467-4a5f-bc95-5fb64581469e"
      },
      "outputs": [
        {
          "data": {
            "text/plain": [
              "((8899, 8), (8899, 1))"
            ]
          },
          "execution_count": 36,
          "metadata": {},
          "output_type": "execute_result"
        }
      ],
      "source": [
        "x_train.shape,y_train.shape"
      ]
    },
    {
      "cell_type": "markdown",
      "metadata": {
        "id": "sFO1QdHuYfpJ"
      },
      "source": [
        "1.RandomForestClassifier"
      ]
    },
    {
      "cell_type": "code",
      "execution_count": 37,
      "metadata": {
        "colab": {
          "base_uri": "https://localhost:8080/"
        },
        "id": "H63XZFG-XvXu",
        "outputId": "bf26e4db-c13d-4f61-d2db-17c38f1115e8"
      },
      "outputs": [
        {
          "name": "stderr",
          "output_type": "stream",
          "text": [
            "c:\\Users\\indhu\\AppData\\Local\\Programs\\Python\\Python312\\Lib\\site-packages\\sklearn\\base.py:1473: DataConversionWarning: A column-vector y was passed when a 1d array was expected. Please change the shape of y to (n_samples,), for example using ravel().\n",
            "  return fit_method(estimator, *args, **kwargs)\n"
          ]
        },
        {
          "data": {
            "text/plain": [
              "0.9150561797752809"
            ]
          },
          "execution_count": 37,
          "metadata": {},
          "output_type": "execute_result"
        }
      ],
      "source": [
        "from sklearn.ensemble import RandomForestClassifier\n",
        "from sklearn.metrics import classification_report, confusion_matrix\n",
        "rfc = RandomForestClassifier()\n",
        "rfc.fit(x_train,y_train)\n",
        "\n",
        "y_test_predict1 = rfc.predict(x_test)\n",
        "test_accuracy = accuracy_score(y_test,y_test_predict1)\n",
        "test_accuracy"
      ]
    },
    {
      "cell_type": "code",
      "execution_count": 38,
      "metadata": {
        "colab": {
          "base_uri": "https://localhost:8080/"
        },
        "id": "X7Yo3Yf1Yl4M",
        "outputId": "af237a47-0f4d-41dd-f6fa-7d58abbd1b33"
      },
      "outputs": [
        {
          "name": "stdout",
          "output_type": "stream",
          "text": [
            "              precision    recall  f1-score   support\n",
            "\n",
            "         0.0       0.94      0.96      0.95      1932\n",
            "         1.0       0.71      0.59      0.65       293\n",
            "\n",
            "    accuracy                           0.92      2225\n",
            "   macro avg       0.83      0.78      0.80      2225\n",
            "weighted avg       0.91      0.92      0.91      2225\n",
            "\n"
          ]
        }
      ],
      "source": [
        "y_train_predict1 = rfc.predict(x_train)\n",
        "train_accuracy = accuracy_score(y_train,y_train_predict1)\n",
        "train_accuracy\n",
        "print(classification_report(y_test,y_test_predict1))"
      ]
    },
    {
      "cell_type": "code",
      "execution_count": 52,
      "metadata": {},
      "outputs": [
        {
          "data": {
            "text/plain": [
              "array([[1865,   67],\n",
              "       [ 122,  171]])"
            ]
          },
          "execution_count": 52,
          "metadata": {},
          "output_type": "execute_result"
        }
      ],
      "source": [
        "confusion_matrix(y_test, y_test_predict1)"
      ]
    },
    {
      "cell_type": "markdown",
      "metadata": {
        "id": "FILNBwvAaxTe"
      },
      "source": [
        "2. Logistic Regression"
      ]
    },
    {
      "cell_type": "code",
      "execution_count": 39,
      "metadata": {
        "colab": {
          "base_uri": "https://localhost:8080/"
        },
        "id": "g4EjiPInN5PW",
        "outputId": "90185001-f0e7-4628-ce91-bcaf77fbf5af"
      },
      "outputs": [
        {
          "name": "stderr",
          "output_type": "stream",
          "text": [
            "c:\\Users\\indhu\\AppData\\Local\\Programs\\Python\\Python312\\Lib\\site-packages\\sklearn\\utils\\validation.py:1339: DataConversionWarning: A column-vector y was passed when a 1d array was expected. Please change the shape of y to (n_samples, ), for example using ravel().\n",
            "  y = column_or_1d(y, warn=True)\n",
            "c:\\Users\\indhu\\AppData\\Local\\Programs\\Python\\Python312\\Lib\\site-packages\\sklearn\\linear_model\\_logistic.py:469: ConvergenceWarning: lbfgs failed to converge (status=1):\n",
            "STOP: TOTAL NO. of ITERATIONS REACHED LIMIT.\n",
            "\n",
            "Increase the number of iterations (max_iter) or scale the data as shown in:\n",
            "    https://scikit-learn.org/stable/modules/preprocessing.html\n",
            "Please also refer to the documentation for alternative solver options:\n",
            "    https://scikit-learn.org/stable/modules/linear_model.html#logistic-regression\n",
            "  n_iter_i = _check_optimize_result(\n"
          ]
        },
        {
          "data": {
            "text/plain": [
              "0.9182022471910113"
            ]
          },
          "execution_count": 39,
          "metadata": {},
          "output_type": "execute_result"
        }
      ],
      "source": [
        "lr = LogisticRegression()\n",
        "lr.fit(x_train,y_train)\n",
        "\n",
        "y_test_predict2 = lr.predict(x_test)\n",
        "test_accuracy = accuracy_score(y_test,y_test_predict2)\n",
        "test_accuracy"
      ]
    },
    {
      "cell_type": "code",
      "execution_count": 40,
      "metadata": {
        "colab": {
          "base_uri": "https://localhost:8080/"
        },
        "id": "criexqmXZ6Ld",
        "outputId": "a852c18f-7923-45bc-c441-d603ebe0e684"
      },
      "outputs": [
        {
          "name": "stdout",
          "output_type": "stream",
          "text": [
            "              precision    recall  f1-score   support\n",
            "\n",
            "         0.0       0.95      0.96      0.95      1932\n",
            "         1.0       0.70      0.65      0.68       293\n",
            "\n",
            "    accuracy                           0.92      2225\n",
            "   macro avg       0.83      0.81      0.82      2225\n",
            "weighted avg       0.92      0.92      0.92      2225\n",
            "\n"
          ]
        }
      ],
      "source": [
        "y_train_predict2 = rfc.predict(x_train)\n",
        "train_accuracy = accuracy_score(y_train,y_train_predict2)\n",
        "train_accuracy\n",
        "print(classification_report(y_test,y_test_predict2))"
      ]
    },
    {
      "cell_type": "code",
      "execution_count": 53,
      "metadata": {},
      "outputs": [
        {
          "data": {
            "text/plain": [
              "array([[1852,   80],\n",
              "       [ 102,  191]])"
            ]
          },
          "execution_count": 53,
          "metadata": {},
          "output_type": "execute_result"
        }
      ],
      "source": [
        "confusion_matrix(y_test, y_test_predict2)"
      ]
    },
    {
      "cell_type": "markdown",
      "metadata": {
        "id": "2AqficZpbCIG"
      },
      "source": [
        "3. DecisionTreeClassifier"
      ]
    },
    {
      "cell_type": "code",
      "execution_count": 41,
      "metadata": {
        "colab": {
          "base_uri": "https://localhost:8080/"
        },
        "id": "06c5h0H5RfRg",
        "outputId": "58bcce1e-267a-4f7c-b4e5-c9bb29b5ea87"
      },
      "outputs": [
        {
          "data": {
            "text/plain": [
              "0.8606741573033708"
            ]
          },
          "execution_count": 41,
          "metadata": {},
          "output_type": "execute_result"
        }
      ],
      "source": [
        "dtc = DecisionTreeClassifier()\n",
        "dtc.fit(x_train,y_train)\n",
        "\n",
        "y_test_predict3 = dtc.predict(x_test)\n",
        "test_accuracy = accuracy_score(y_test,y_test_predict3)\n",
        "test_accuracy"
      ]
    },
    {
      "cell_type": "code",
      "execution_count": 42,
      "metadata": {
        "colab": {
          "base_uri": "https://localhost:8080/"
        },
        "id": "ekdAU9SmbU1y",
        "outputId": "ff9b071c-d4b7-4a79-d750-aced16cbc150"
      },
      "outputs": [
        {
          "name": "stdout",
          "output_type": "stream",
          "text": [
            "              precision    recall  f1-score   support\n",
            "\n",
            "         0.0       0.92      0.92      0.92      1932\n",
            "         1.0       0.47      0.48      0.48       293\n",
            "\n",
            "    accuracy                           0.86      2225\n",
            "   macro avg       0.70      0.70      0.70      2225\n",
            "weighted avg       0.86      0.86      0.86      2225\n",
            "\n"
          ]
        }
      ],
      "source": [
        "y_train_predict3 = dtc.predict(x_train)\n",
        "train_accuracy = accuracy_score(y_train,y_train_predict3)\n",
        "train_accuracy\n",
        "print(classification_report(y_test,y_test_predict3))"
      ]
    },
    {
      "cell_type": "code",
      "execution_count": 54,
      "metadata": {},
      "outputs": [
        {
          "data": {
            "text/plain": [
              "array([[1773,  159],\n",
              "       [ 151,  142]])"
            ]
          },
          "execution_count": 54,
          "metadata": {},
          "output_type": "execute_result"
        }
      ],
      "source": [
        "confusion_matrix(y_test, y_test_predict3)"
      ]
    },
    {
      "cell_type": "markdown",
      "metadata": {
        "id": "beZfRQK8UCQn"
      },
      "source": [
        "4. **ExtraTreeClassifier**"
      ]
    },
    {
      "cell_type": "code",
      "execution_count": 43,
      "metadata": {
        "colab": {
          "base_uri": "https://localhost:8080/"
        },
        "id": "NbVnf1HESPIz",
        "outputId": "52c051e6-ae5f-4898-ac45-8bd2991b4f45"
      },
      "outputs": [
        {
          "name": "stderr",
          "output_type": "stream",
          "text": [
            "c:\\Users\\indhu\\AppData\\Local\\Programs\\Python\\Python312\\Lib\\site-packages\\sklearn\\base.py:1473: DataConversionWarning: A column-vector y was passed when a 1d array was expected. Please change the shape of y to (n_samples,), for example using ravel().\n",
            "  return fit_method(estimator, *args, **kwargs)\n"
          ]
        },
        {
          "data": {
            "text/plain": [
              "0.9087640449438202"
            ]
          },
          "execution_count": 43,
          "metadata": {},
          "output_type": "execute_result"
        }
      ],
      "source": [
        "etc = ExtraTreesClassifier()\n",
        "etc.fit(x_train,y_train)\n",
        "\n",
        "y_test_predict4 = etc.predict(x_test)\n",
        "test_accuracy = accuracy_score(y_test,y_test_predict4)\n",
        "test_accuracy"
      ]
    },
    {
      "cell_type": "code",
      "execution_count": 44,
      "metadata": {
        "colab": {
          "base_uri": "https://localhost:8080/"
        },
        "id": "hbnNATo4b5Ow",
        "outputId": "b5784cec-8c18-4d12-b3ad-fec198a5cd2f"
      },
      "outputs": [
        {
          "name": "stdout",
          "output_type": "stream",
          "text": [
            "              precision    recall  f1-score   support\n",
            "\n",
            "         0.0       0.94      0.96      0.95      1932\n",
            "         1.0       0.69      0.56      0.62       293\n",
            "\n",
            "    accuracy                           0.91      2225\n",
            "   macro avg       0.81      0.76      0.78      2225\n",
            "weighted avg       0.90      0.91      0.90      2225\n",
            "\n"
          ]
        }
      ],
      "source": [
        "y_train_predict4 = etc.predict(x_train)\n",
        "train_accuracy = accuracy_score(y_train,y_train_predict4)\n",
        "train_accuracy\n",
        "print(classification_report(y_test,y_test_predict4))"
      ]
    },
    {
      "cell_type": "code",
      "execution_count": 55,
      "metadata": {},
      "outputs": [
        {
          "data": {
            "text/plain": [
              "array([[1857,   75],\n",
              "       [ 128,  165]])"
            ]
          },
          "execution_count": 55,
          "metadata": {},
          "output_type": "execute_result"
        }
      ],
      "source": [
        "confusion_matrix(y_test, y_test_predict4)"
      ]
    },
    {
      "cell_type": "markdown",
      "metadata": {
        "id": "ioHD0lzkca3u"
      },
      "source": [
        "#Comparing Models"
      ]
    },
    {
      "cell_type": "code",
      "execution_count": 45,
      "metadata": {
        "colab": {
          "base_uri": "https://localhost:8080/"
        },
        "id": "7YLrUUlzUKBu",
        "outputId": "eef0c0be-5cd3-4f92-f9dd-c86e6654b1c8"
      },
      "outputs": [
        {
          "name": "stdout",
          "output_type": "stream",
          "text": [
            "train accuracy for rfc 0.9997752556467019\n",
            "test accuracy for rfc 0.9150561797752809\n",
            "train accuracy for dtc 1.0\n",
            "test accuracy for dtc 0.8606741573033708\n",
            "train accuracy for etc 1.0\n",
            "test accuracy for etc 0.9087640449438202\n",
            "train accuracy for lr 0.9997752556467019\n",
            "test accuracy for lr 0.9182022471910113\n"
          ]
        }
      ],
      "source": [
        "def compareModel():\n",
        "    print(\"train accuracy for rfc\",accuracy_score(y_train_predict1,y_train))\n",
        "    print(\"test accuracy for rfc\",accuracy_score(y_test_predict1,y_test))\n",
        "    print(\"train accuracy for dtc\",accuracy_score(y_train_predict3,y_train))\n",
        "    print(\"test accuracy for dtc\",accuracy_score(y_test_predict3,y_test))\n",
        "    print(\"train accuracy for etc\",accuracy_score(y_train_predict4,y_train))\n",
        "    print(\"test accuracy for etc\",accuracy_score(y_test_predict4,y_test))\n",
        "    print(\"train accuracy for lr\",accuracy_score(y_train_predict2,y_train))\n",
        "    print(\"test accuracy for lr\",accuracy_score(y_test_predict2,y_test))\n",
        "compareModel()"
      ]
    },
    {
      "cell_type": "code",
      "execution_count": 46,
      "metadata": {
        "colab": {
          "base_uri": "https://localhost:8080/"
        },
        "id": "e-Qwgfdcnf49",
        "outputId": "782e8cac-09f4-4205-b469-039c36027e0d"
      },
      "outputs": [
        {
          "name": "stdout",
          "output_type": "stream",
          "text": [
            "Test Accuracy: 0.92\n"
          ]
        }
      ],
      "source": [
        "y_pred = rfc.predict(x_test)\n",
        "accuracy = accuracy_score(y_test, y_pred)\n",
        "print(f\"Test Accuracy: {accuracy:.2f}\")"
      ]
    },
    {
      "cell_type": "markdown",
      "metadata": {
        "id": "IuGYLB3edTz4"
      },
      "source": [
        "#Evaluating The performance"
      ]
    },
    {
      "cell_type": "code",
      "execution_count": 47,
      "metadata": {
        "id": "T6Nv6JB3stzR"
      },
      "outputs": [],
      "source": [
        "from sklearn.preprocessing import StandardScaler\n",
        "le=LabelEncoder()\n",
        "for i in range(x_train.shape[1]):\n",
        "  if isinstance(x_train[0,i],str):\n",
        "    x_train[:,i]=le.fit_transform(x_train[:,i])\n",
        "    x_test[:,i]=le.fit_transform(x_test[:,i])\n",
        "sc=StandardScaler()\n",
        "x_train=sc.fit_transform(x_train)\n",
        "x_test=sc.transform(x_test)"
      ]
    },
    {
      "cell_type": "code",
      "execution_count": 48,
      "metadata": {
        "colab": {
          "base_uri": "https://localhost:8080/"
        },
        "id": "Z8n4ujEQdn8X",
        "outputId": "a9f70775-557d-47b2-90ff-92eae29c5597"
      },
      "outputs": [
        {
          "name": "stderr",
          "output_type": "stream",
          "text": [
            "c:\\Users\\indhu\\AppData\\Local\\Programs\\Python\\Python312\\Lib\\site-packages\\sklearn\\base.py:1473: DataConversionWarning: A column-vector y was passed when a 1d array was expected. Please change the shape of y to (n_samples,), for example using ravel().\n",
            "  return fit_method(estimator, *args, **kwargs)\n"
          ]
        },
        {
          "data": {
            "text/plain": [
              "0.9150561797752809"
            ]
          },
          "execution_count": 48,
          "metadata": {},
          "output_type": "execute_result"
        }
      ],
      "source": [
        "rfc = RandomForestClassifier()\n",
        "rfc.fit(x_train,y_train)\n",
        "\n",
        "y_test_predict1 = rfc.predict(x_test)\n",
        "test_accuracy = accuracy_score(y_test,y_test_predict1)\n",
        "test_accuracy"
      ]
    },
    {
      "cell_type": "code",
      "execution_count": 49,
      "metadata": {
        "colab": {
          "base_uri": "https://localhost:8080/"
        },
        "id": "c5dcE3ZYdwSu",
        "outputId": "b6d679e1-634e-4c0c-b5bb-20ed7178535a"
      },
      "outputs": [
        {
          "data": {
            "text/plain": [
              "0.9998876278233509"
            ]
          },
          "execution_count": 49,
          "metadata": {},
          "output_type": "execute_result"
        }
      ],
      "source": [
        "y_train_predict1 = rfc.predict(x_train)\n",
        "train_accuracy = accuracy_score(y_train,y_train_predict1)\n",
        "train_accuracy"
      ]
    },
    {
      "cell_type": "code",
      "execution_count": 50,
      "metadata": {
        "id": "yNAWc47ed3a5"
      },
      "outputs": [],
      "source": [
        "import pickle\n",
        "pickle.dump(rfc,open('flights.pkl','wb'))"
      ]
    }
  ],
  "metadata": {
    "colab": {
      "provenance": []
    },
    "kernelspec": {
      "display_name": "Python 3",
      "name": "python3"
    },
    "language_info": {
      "codemirror_mode": {
        "name": "ipython",
        "version": 3
      },
      "file_extension": ".py",
      "mimetype": "text/x-python",
      "name": "python",
      "nbconvert_exporter": "python",
      "pygments_lexer": "ipython3",
      "version": "3.12.4"
    }
  },
  "nbformat": 4,
  "nbformat_minor": 0
}
